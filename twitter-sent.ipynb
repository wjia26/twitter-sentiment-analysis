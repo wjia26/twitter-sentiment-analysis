{
 "cells": [
  {
   "cell_type": "markdown",
   "metadata": {},
   "source": [
    "# Exploratory Analysis and PoC for creating a sentiment analysis app for the EPL Teams"
   ]
  },
  {
   "cell_type": "code",
   "execution_count": 18,
   "metadata": {},
   "outputs": [],
   "source": [
    "import tweepy\n",
    "import json\n",
    "import pandas as pd"
   ]
  },
  {
   "cell_type": "code",
   "execution_count": 65,
   "metadata": {},
   "outputs": [],
   "source": [
    "with open(\"C:/Users/William Jiang/Documents/credentials.json\") as f:\n",
    "    d = json.load(f)\n",
    "    cred_json=d[\"twitter_api\"]\n",
    "    \n",
    "\n",
    "# Authenticate to Twitter\n",
    "auth = tweepy.OAuthHandler(cred_json[\"CONSUMER_KEY\"], cred_json[\"CONSUMER_SECRET\"])\n",
    "auth.set_access_token(cred_json[\"ACCESS_TOKEN\"], cred_json[\"ACCESS_TOKEN_SECRET\"])\n",
    "\n",
    "# Create API object\n",
    "api = tweepy.API(auth)\n",
    "\n",
    "# # Create a tweet\n",
    "# api.update_status(\"Hello Tweepy2\")"
   ]
  },
  {
   "cell_type": "code",
   "execution_count": 66,
   "metadata": {},
   "outputs": [],
   "source": [
    "search_results=api.search(q=\"#Arsenal\", lang=\"en\", count=15)"
   ]
  },
  {
   "cell_type": "code",
   "execution_count": 73,
   "metadata": {},
   "outputs": [],
   "source": [
    "rows_list=[]\n",
    "for tweet in search_results:\n",
    "#     print(f\"{tweet.user.name}:{tweet.text}:{tweet.created_at}\")\n",
    "    df.append([tweet.user.name, tweet.text, tweet.created_at])\n",
    "    dict1 = {}\n",
    "    dict1['twitter_id']=tweet.id\n",
    "    dict1['username']=tweet.user.name\n",
    "    dict1['text']=tweet.text\n",
    "    dict1['created_at']=tweet.created_at\n",
    "    dict1['retweet_count']=tweet.retweet_count\n",
    "    dict1['location']=tweet.user.location\n",
    "    dict1['followers']=tweet.user.followers_count\n",
    "    \n",
    "    rows_list.append(dict1)\n",
    "    \n",
    "    "
   ]
  },
  {
   "cell_type": "code",
   "execution_count": 74,
   "metadata": {},
   "outputs": [],
   "source": [
    "df=pd.DataFrame(rows_list)\n",
    "df.to_csv('outputfile.csv')"
   ]
  },
  {
   "cell_type": "code",
   "execution_count": 70,
   "metadata": {},
   "outputs": [
    {
     "data": {
      "text/plain": [
       "<bound method NDFrame.describe of                      username  \\\n",
       "0                  WengerKing   \n",
       "1        Roblox Art Retweeter   \n",
       "2                       jayod   \n",
       "3                     Arsenal   \n",
       "4          Thomas A. DeBlasio   \n",
       "5   Ndependent ChicksEnt IFB💋   \n",
       "6          Geoff Peasah #AFC♥   \n",
       "7             ICE Promo Squad   \n",
       "8                          SD   \n",
       "9                         ...   \n",
       "10          Just Arsenal News   \n",
       "11                    Arsenal   \n",
       "12               brightthekid   \n",
       "13               KAA (Stay 🏡)   \n",
       "14                  info fifa   \n",
       "\n",
       "                                                 text          created_at  \n",
       "0   RT @MrRussoTM: Wilfried #Zaha has made it clea... 2020-06-29 11:23:52  \n",
       "1   RT @X65007387: boom boom baby 💥💥💥\\n#roblox #ro... 2020-06-29 11:23:29  \n",
       "2   Liverpool today and Arsenal's invincibles Best... 2020-06-29 11:22:53  \n",
       "3   RT @GurjitAFC: #Arsenal will also trigger Thom... 2020-06-29 11:21:07  \n",
       "4   RT @MrRussoTM: Wilfried #Zaha has made it clea... 2020-06-29 11:20:56  \n",
       "5   RT @mogoa_felix: Objects behind the clothes ar... 2020-06-29 11:19:15  \n",
       "6   RT @GurjitAFC: Arteta: \"He needs to take care ... 2020-06-29 11:18:45  \n",
       "7   RT @mogoa_felix: Objects behind the clothes ar... 2020-06-29 11:17:48  \n",
       "8   #Follow #FollowBack #Footy #Football #Keyrings... 2020-06-29 11:16:47  \n",
       "9   RT @MrRussoTM: Wilfried #Zaha has made it clea... 2020-06-29 11:16:05  \n",
       "10  JustArsenal News It is all about momentum for ... 2020-06-29 11:16:02  \n",
       "11  RT @urbanarsenaI: Folarin Balogun is set to le... 2020-06-29 11:15:48  \n",
       "12  Arsenal fans will just die of heart attack 😀\\n... 2020-06-29 11:15:40  \n",
       "13  RT @urbanarsenaI: Folarin Balogun is set to le... 2020-06-29 11:15:36  \n",
       "14  RT @AdenikeZulaiha: How old were you when you ... 2020-06-29 11:15:16  >"
      ]
     },
     "execution_count": 70,
     "metadata": {},
     "output_type": "execute_result"
    }
   ],
   "source": [
    "df.describe"
   ]
  }
 ],
 "metadata": {
  "kernelspec": {
   "display_name": "Python 3",
   "language": "python",
   "name": "python3"
  },
  "language_info": {
   "codemirror_mode": {
    "name": "ipython",
    "version": 3
   },
   "file_extension": ".py",
   "mimetype": "text/x-python",
   "name": "python",
   "nbconvert_exporter": "python",
   "pygments_lexer": "ipython3",
   "version": "3.6.3"
  }
 },
 "nbformat": 4,
 "nbformat_minor": 4
}
