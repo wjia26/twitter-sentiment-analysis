{
 "cells": [
  {
   "cell_type": "markdown",
   "metadata": {},
   "source": [
    "# Exploratory Analysis and PoC for creating a sentiment analysis app for the EPL Teams"
   ]
  },
  {
   "cell_type": "code",
   "execution_count": 18,
   "metadata": {},
   "outputs": [],
   "source": [
    "import tweepy\n",
    "import json\n",
    "import pandas as pd"
   ]
  },
  {
   "cell_type": "code",
   "execution_count": 65,
   "metadata": {},
   "outputs": [],
   "source": [
    "with open(\"C:/Users/William Jiang/Documents/credentials.json\") as f:\n",
    "    d = json.load(f)\n",
    "    cred_json=d[\"twitter_api\"]\n",
    "    \n",
    "\n",
    "# Authenticate to Twitter\n",
    "auth = tweepy.OAuthHandler(cred_json[\"CONSUMER_KEY\"], cred_json[\"CONSUMER_SECRET\"])\n",
    "auth.set_access_token(cred_json[\"ACCESS_TOKEN\"], cred_json[\"ACCESS_TOKEN_SECRET\"])\n",
    "\n",
    "# Create API object\n",
    "api = tweepy.API(auth)\n",
    "\n",
    "# # Create a tweet\n",
    "# api.update_status(\"Hello Tweepy2\")"
   ]
  },
  {
   "cell_type": "code",
   "execution_count": 66,
   "metadata": {},
   "outputs": [],
   "source": [
    "search_results=api.search(q=\"#Arsenal\", lang=\"en\", count=15)"
   ]
  },
  {
   "cell_type": "code",
   "execution_count": 80,
   "metadata": {},
   "outputs": [],
   "source": [
    "rows_list=[]\n",
    "for tweet in search_results:\n",
    "#     print(f\"{tweet.user.name}:{tweet.text}:{tweet.created_at}\")\n",
    "    df.append([tweet.user.name, tweet.text, tweet.created_at])\n",
    "    dict1 = {}\n",
    "    dict1['twitter_id']=tweet.id\n",
    "    dict1['username']=tweet.user.name\n",
    "    dict1['screenname']=tweet.user.screen_name\n",
    "    dict1['text']=tweet.text\n",
    "    dict1['created_at']=tweet.created_at\n",
    "    dict1['retweet_count']=tweet.retweet_count\n",
    "    dict1['location']=tweet.user.location\n",
    "    dict1['followers']=tweet.user.followers_count\n",
    "    dict1['friends']=tweet.user.friends_count\n",
    "    \n",
    "    rows_list.append(dict1)\n",
    "    \n",
    "    "
   ]
  },
  {
   "cell_type": "code",
   "execution_count": 81,
   "metadata": {},
   "outputs": [],
   "source": [
    "df=pd.DataFrame(rows_list)\n",
    "df.to_csv('outputfile.csv')"
   ]
  },
  {
   "cell_type": "code",
   "execution_count": 82,
   "metadata": {},
   "outputs": [
    {
     "data": {
      "text/plain": [
       "<bound method NDFrame.describe of              twitter_id                   username       screenname  \\\n",
       "0   1277563431445544960                 WengerKing     WengerKing49   \n",
       "1   1277563334116675584       Roblox Art Retweeter     RetweeterArt   \n",
       "2   1277563182463291392                      jayod   jason_donoghue   \n",
       "3   1277562739062341632                    Arsenal    austine_perez   \n",
       "4   1277562690559512578         Thomas A. DeBlasio   ThomasDeBlasio   \n",
       "5   1277562269329735683  Ndependent ChicksEnt IFB💋  independentchi1   \n",
       "6   1277562141898346500         Geoff Peasah #AFC♥      awuahpeasah   \n",
       "7   1277561904853127169            ICE Promo Squad   ICEPromoSquad1   \n",
       "8   1277561646081286145                         SD    FootyKeyrings   \n",
       "9   1277561473141800962                        ...        SamSossa1   \n",
       "10  1277561459732549632          Just Arsenal News      JustArsenal   \n",
       "11  1277561402664902660                    Arsenal    austine_perez   \n",
       "12  1277561366853844992               brightthekid    brightthekidd   \n",
       "13  1277561348801523712               KAA (Stay 🏡)          truekaa   \n",
       "14  1277561266777751553                  info fifa        infofifa3   \n",
       "\n",
       "                                                 text          created_at  \\\n",
       "0   RT @MrRussoTM: Wilfried #Zaha has made it clea... 2020-06-29 11:23:52   \n",
       "1   RT @X65007387: boom boom baby 💥💥💥\\n#roblox #ro... 2020-06-29 11:23:29   \n",
       "2   Liverpool today and Arsenal's invincibles Best... 2020-06-29 11:22:53   \n",
       "3   RT @GurjitAFC: #Arsenal will also trigger Thom... 2020-06-29 11:21:07   \n",
       "4   RT @MrRussoTM: Wilfried #Zaha has made it clea... 2020-06-29 11:20:56   \n",
       "5   RT @mogoa_felix: Objects behind the clothes ar... 2020-06-29 11:19:15   \n",
       "6   RT @GurjitAFC: Arteta: \"He needs to take care ... 2020-06-29 11:18:45   \n",
       "7   RT @mogoa_felix: Objects behind the clothes ar... 2020-06-29 11:17:48   \n",
       "8   #Follow #FollowBack #Footy #Football #Keyrings... 2020-06-29 11:16:47   \n",
       "9   RT @MrRussoTM: Wilfried #Zaha has made it clea... 2020-06-29 11:16:05   \n",
       "10  JustArsenal News It is all about momentum for ... 2020-06-29 11:16:02   \n",
       "11  RT @urbanarsenaI: Folarin Balogun is set to le... 2020-06-29 11:15:48   \n",
       "12  Arsenal fans will just die of heart attack 😀\\n... 2020-06-29 11:15:40   \n",
       "13  RT @urbanarsenaI: Folarin Balogun is set to le... 2020-06-29 11:15:36   \n",
       "14  RT @AdenikeZulaiha: How old were you when you ... 2020-06-29 11:15:16   \n",
       "\n",
       "    retweet_count                 location  followers  friends  \n",
       "0              71             South Africa        231     3306  \n",
       "1               1                                 175        5  \n",
       "2               0          Galway Ireland         266      347  \n",
       "3              22           Lagos, Nigeria        982     1323  \n",
       "4              71             New York, NY        368      653  \n",
       "5               1         Mississippi, USA       3089     2773  \n",
       "6              22  Southampton - Hampshire       3516     4968  \n",
       "7               1                                 307      632  \n",
       "8               0                                1241      801  \n",
       "9              71                   London        261      245  \n",
       "10              0                   London      17474      819  \n",
       "11             98           Lagos, Nigeria        982     1323  \n",
       "12              0           Lagos, Nigeria       1104     1458  \n",
       "13             98                                8628     8598  \n",
       "14              1                                 613       82  >"
      ]
     },
     "execution_count": 82,
     "metadata": {},
     "output_type": "execute_result"
    }
   ],
   "source": [
    "df.describe"
   ]
  },
  {
   "cell_type": "code",
   "execution_count": null,
   "metadata": {},
   "outputs": [],
   "source": []
  }
 ],
 "metadata": {
  "kernelspec": {
   "display_name": "Python 3",
   "language": "python",
   "name": "python3"
  },
  "language_info": {
   "codemirror_mode": {
    "name": "ipython",
    "version": 3
   },
   "file_extension": ".py",
   "mimetype": "text/x-python",
   "name": "python",
   "nbconvert_exporter": "python",
   "pygments_lexer": "ipython3",
   "version": "3.6.3"
  }
 },
 "nbformat": 4,
 "nbformat_minor": 4
}
