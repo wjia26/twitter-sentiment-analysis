{
 "cells": [
  {
   "cell_type": "markdown",
   "metadata": {},
   "source": [
    "# Exploratory Analysis and PoC for creating a sentiment analysis app for the EPL Teams"
   ]
  },
  {
   "cell_type": "code",
   "execution_count": 9,
   "metadata": {},
   "outputs": [],
   "source": [
    "import tweepy\n",
    "import json\n",
    "import pandas as pd\n",
    "from datetime import datetime\n",
    "import nltk\n",
    "from nltk.sentiment.vader import SentimentIntensityAnalyzer as SIA\n",
    "# nltk.download('vader_lexicon') # Need this to run SIA()\n",
    "# need to install pyarrow"
   ]
  },
  {
   "cell_type": "code",
   "execution_count": 34,
   "metadata": {},
   "outputs": [],
   "source": [
    "df_query_list=pd.read_csv('query_list.csv')"
   ]
  },
  {
   "cell_type": "code",
   "execution_count": 35,
   "metadata": {},
   "outputs": [],
   "source": [
    "df_query_list=df_query_list.head() #debug for first 5 rows"
   ]
  },
  {
   "cell_type": "code",
   "execution_count": 31,
   "metadata": {},
   "outputs": [],
   "source": [
    "with open(\"C:/Users/William Jiang/Documents/credentials.json\") as f:\n",
    "    d = json.load(f)\n",
    "    cred_json=d[\"twitter_api\"]\n",
    "    \n",
    "\n",
    "# Authenticate to Twitter\n",
    "auth = tweepy.OAuthHandler(cred_json[\"CONSUMER_KEY\"], cred_json[\"CONSUMER_SECRET\"])\n",
    "auth.set_access_token(cred_json[\"ACCESS_TOKEN\"], cred_json[\"ACCESS_TOKEN_SECRET\"])\n",
    "\n",
    "# Create API object\n",
    "api = tweepy.API(auth)\n",
    "\n",
    "# # Create a tweet\n",
    "# api.update_status(\"Hello Tweepy2\")"
   ]
  },
  {
   "cell_type": "code",
   "execution_count": 32,
   "metadata": {},
   "outputs": [],
   "source": [
    "def polarity(row):\n",
    "    #Does the sentiment analysis stuff\n",
    "    sia = SIA()\n",
    "    polarity=sia.polarity_scores(row)\n",
    "    return polarity['compound']"
   ]
  },
  {
   "cell_type": "code",
   "execution_count": null,
   "metadata": {},
   "outputs": [],
   "source": [
    "import os\n",
    "arr = os.listdir('output')"
   ]
  },
  {
   "cell_type": "code",
   "execution_count": 49,
   "metadata": {},
   "outputs": [],
   "source": [
    "for index,row in df_query_list.iterrows():\n",
    "    #initialize the search_id_list\n",
    "    try:\n",
    "        search_id_list=[]\n",
    "        for file in arr:\n",
    "            if \".parquet\" in file and row['file_name'] in file and row['category'] in file:\n",
    "                search_id=file.split('-')[2]\n",
    "                search_id_list.append(search_id)\n",
    "\n",
    "        last_since_id=max(search_id_list)\n",
    "\n",
    "        #Get Search Results\n",
    "        search_results=api.search(q=row['search'], lang=\"en\", count=15,since_id=last_since_id) #since_id neeeded here at some point\n",
    "        rows_list=[]\n",
    "        for tweet in search_results:\n",
    "            dict1 = {}\n",
    "            dict1['twitter_id']=tweet.id\n",
    "            dict1['username']=tweet.user.name\n",
    "            dict1['screenname']=tweet.user.screen_name\n",
    "            dict1['text']=tweet.text\n",
    "            dict1['created_at']=tweet.created_at\n",
    "            dict1['retweet_count']=tweet.retweet_count\n",
    "            dict1['location']=tweet.user.location\n",
    "            dict1['followers']=tweet.user.followers_count\n",
    "            dict1['friends']=tweet.user.friends_count\n",
    "            rows_list.append(dict1)\n",
    "\n",
    "        #output to dataframe and then to snappy.parquet form\n",
    "        df=pd.DataFrame(rows_list) \n",
    "        file_dir='output/'\n",
    "        df['polarity']=df['text'].apply(polarity)\n",
    "        to_csv_timestamp = datetime.today().strftime('%Y%m%d_%H%M%S')\n",
    "        max_twitter_id=max(df['twitter_id'])\n",
    "        df.to_parquet(file_dir+row['category'] +'-'+ row['file_name'] +'-'+ str(max_twitter_id) + '-'+ to_csv_timestamp + '.snappy.parquet',compression='SNAPPY')\n",
    "        df.to_csv(file_dir+row['category'] +'-'+ row['file_name'] +'-'+ str(max_twitter_id) + '-'+ to_csv_timestamp + '.csv') #debugging\n",
    "    except Exception as e:\n",
    "        print(e)"
   ]
  },
  {
   "cell_type": "code",
   "execution_count": 44,
   "metadata": {},
   "outputs": [
    {
     "data": {
      "text/html": [
       "<div>\n",
       "<style scoped>\n",
       "    .dataframe tbody tr th:only-of-type {\n",
       "        vertical-align: middle;\n",
       "    }\n",
       "\n",
       "    .dataframe tbody tr th {\n",
       "        vertical-align: top;\n",
       "    }\n",
       "\n",
       "    .dataframe thead th {\n",
       "        text-align: right;\n",
       "    }\n",
       "</style>\n",
       "<table border=\"1\" class=\"dataframe\">\n",
       "  <thead>\n",
       "    <tr style=\"text-align: right;\">\n",
       "      <th></th>\n",
       "      <th>file_name</th>\n",
       "      <th>group_name</th>\n",
       "      <th>category</th>\n",
       "      <th>search</th>\n",
       "    </tr>\n",
       "  </thead>\n",
       "  <tbody>\n",
       "    <tr>\n",
       "      <th>0</th>\n",
       "      <td>Arsenal</td>\n",
       "      <td>Arsenal FC</td>\n",
       "      <td>EPL</td>\n",
       "      <td>#Arsenal OR #AFC OR #COYG</td>\n",
       "    </tr>\n",
       "    <tr>\n",
       "      <th>1</th>\n",
       "      <td>TottenhamHotspur</td>\n",
       "      <td>Tottenham Hotspur FC</td>\n",
       "      <td>EPL</td>\n",
       "      <td>#Tottenham OR #THFC OR #SPURS</td>\n",
       "    </tr>\n",
       "    <tr>\n",
       "      <th>2</th>\n",
       "      <td>ManchesterCity</td>\n",
       "      <td>Manchester City FC</td>\n",
       "      <td>EPL</td>\n",
       "      <td>#ManchesterCity OR #ManCity OR #MCFC</td>\n",
       "    </tr>\n",
       "    <tr>\n",
       "      <th>3</th>\n",
       "      <td>LeicesterCity</td>\n",
       "      <td>Leicester City FC</td>\n",
       "      <td>EPL</td>\n",
       "      <td>#LeicesterCity OR #LCFC</td>\n",
       "    </tr>\n",
       "    <tr>\n",
       "      <th>4</th>\n",
       "      <td>CrystalPalace</td>\n",
       "      <td>Crystal Palace FC</td>\n",
       "      <td>EPL</td>\n",
       "      <td>#CrystalPalace OR #CPFC</td>\n",
       "    </tr>\n",
       "  </tbody>\n",
       "</table>\n",
       "</div>"
      ],
      "text/plain": [
       "          file_name            group_name category  \\\n",
       "0           Arsenal            Arsenal FC      EPL   \n",
       "1  TottenhamHotspur  Tottenham Hotspur FC      EPL   \n",
       "2    ManchesterCity    Manchester City FC      EPL   \n",
       "3     LeicesterCity     Leicester City FC      EPL   \n",
       "4     CrystalPalace     Crystal Palace FC      EPL   \n",
       "\n",
       "                                 search  \n",
       "0             #Arsenal OR #AFC OR #COYG  \n",
       "1         #Tottenham OR #THFC OR #SPURS  \n",
       "2  #ManchesterCity OR #ManCity OR #MCFC  \n",
       "3               #LeicesterCity OR #LCFC  \n",
       "4               #CrystalPalace OR #CPFC  "
      ]
     },
     "execution_count": 44,
     "metadata": {},
     "output_type": "execute_result"
    }
   ],
   "source": [
    "df_query_list"
   ]
  },
  {
   "cell_type": "code",
   "execution_count": 50,
   "metadata": {},
   "outputs": [
    {
     "data": {
      "text/html": [
       "<div>\n",
       "<style scoped>\n",
       "    .dataframe tbody tr th:only-of-type {\n",
       "        vertical-align: middle;\n",
       "    }\n",
       "\n",
       "    .dataframe tbody tr th {\n",
       "        vertical-align: top;\n",
       "    }\n",
       "\n",
       "    .dataframe thead th {\n",
       "        text-align: right;\n",
       "    }\n",
       "</style>\n",
       "<table border=\"1\" class=\"dataframe\">\n",
       "  <thead>\n",
       "    <tr style=\"text-align: right;\">\n",
       "      <th></th>\n",
       "      <th>twitter_id</th>\n",
       "      <th>username</th>\n",
       "      <th>screenname</th>\n",
       "      <th>text</th>\n",
       "      <th>created_at</th>\n",
       "      <th>retweet_count</th>\n",
       "      <th>location</th>\n",
       "      <th>followers</th>\n",
       "      <th>friends</th>\n",
       "      <th>polarity</th>\n",
       "    </tr>\n",
       "  </thead>\n",
       "  <tbody>\n",
       "    <tr>\n",
       "      <th>0</th>\n",
       "      <td>1279290090099892224</td>\n",
       "      <td>Kevin Harper</td>\n",
       "      <td>kevshat</td>\n",
       "      <td>We've previewed today's #PremierLeague matches...</td>\n",
       "      <td>2020-07-04 05:45:00</td>\n",
       "      <td>0</td>\n",
       "      <td>Luton</td>\n",
       "      <td>1296</td>\n",
       "      <td>1429</td>\n",
       "      <td>0.0000</td>\n",
       "    </tr>\n",
       "    <tr>\n",
       "      <th>1</th>\n",
       "      <td>1279289838450151424</td>\n",
       "      <td>Profit Booster UK</td>\n",
       "      <td>ProfitBoosterUK</td>\n",
       "      <td>Leicester City v Crystal Palace \\n\\nPreview, P...</td>\n",
       "      <td>2020-07-04 05:44:00</td>\n",
       "      <td>0</td>\n",
       "      <td></td>\n",
       "      <td>41808</td>\n",
       "      <td>9910</td>\n",
       "      <td>0.6369</td>\n",
       "    </tr>\n",
       "  </tbody>\n",
       "</table>\n",
       "</div>"
      ],
      "text/plain": [
       "            twitter_id           username       screenname  \\\n",
       "0  1279290090099892224       Kevin Harper          kevshat   \n",
       "1  1279289838450151424  Profit Booster UK  ProfitBoosterUK   \n",
       "\n",
       "                                                text          created_at  \\\n",
       "0  We've previewed today's #PremierLeague matches... 2020-07-04 05:45:00   \n",
       "1  Leicester City v Crystal Palace \\n\\nPreview, P... 2020-07-04 05:44:00   \n",
       "\n",
       "   retweet_count location  followers  friends  polarity  \n",
       "0              0    Luton       1296     1429    0.0000  \n",
       "1              0               41808     9910    0.6369  "
      ]
     },
     "execution_count": 50,
     "metadata": {},
     "output_type": "execute_result"
    }
   ],
   "source": [
    "df"
   ]
  },
  {
   "cell_type": "code",
   "execution_count": null,
   "metadata": {},
   "outputs": [],
   "source": []
  }
 ],
 "metadata": {
  "kernelspec": {
   "display_name": "Python 3",
   "language": "python",
   "name": "python3"
  },
  "language_info": {
   "codemirror_mode": {
    "name": "ipython",
    "version": 3
   },
   "file_extension": ".py",
   "mimetype": "text/x-python",
   "name": "python",
   "nbconvert_exporter": "python",
   "pygments_lexer": "ipython3",
   "version": "3.6.3"
  }
 },
 "nbformat": 4,
 "nbformat_minor": 4
}
