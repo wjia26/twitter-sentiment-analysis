{
 "cells": [
  {
   "cell_type": "code",
   "execution_count": 18,
   "metadata": {},
   "outputs": [],
   "source": [
    "import tweepy\n",
    "import json\n",
    "import pandas as pd"
   ]
  },
  {
   "cell_type": "code",
   "execution_count": 22,
   "metadata": {},
   "outputs": [],
   "source": [
    "with open(\"C:/Users/William Jiang/Documents/credentials.json\") as f:\n",
    "    d = json.load(f)\n",
    "    cred_json=d[\"twitter_api\"]\n",
    "    \n",
    "\n",
    "# Authenticate to Twitter\n",
    "auth = tweepy.OAuthHandler(cred_json[\"CONSUMER_KEY\"], cred_json[\"CONSUMER_SECRET\"])\n",
    "auth.set_access_token(cred_json[\"ACCESS_TOKEN\"], cred_json[\"ACCESS_TOKEN_SECRET\"])\n",
    "\n",
    "# Create API object\n",
    "api = tweepy.API(auth)\n",
    "\n",
    "# # Create a tweet\n",
    "# api.update_status(\"Hello Tweepy2\")"
   ]
  },
  {
   "cell_type": "code",
   "execution_count": 23,
   "metadata": {},
   "outputs": [],
   "source": [
    "column_names = [\"username\", \"text\", \"created_at\"]\n",
    "\n",
    "df = pd.DataFrame(columns = column_names)"
   ]
  },
  {
   "cell_type": "code",
   "execution_count": 21,
   "metadata": {},
   "outputs": [
    {
     "name": "stdout",
     "output_type": "stream",
     "text": [
      "Fvck the Borice~Tai😎:RT @urbanarsenaI: Folarin Balogun is set to leave #Arsenal in the next transfer window after a new contract for the striker could not be ag…:2020-06-29 10:11:12\n",
      "Gooner Michael:RT @zarsenall: The first is Pepe's heat map vs Southampton and the 2nd is vs Sheffield. It's clear that with AMN, Pepe has more support and…:2020-06-29 10:11:10\n",
      "Gerson:@MrRussoTM #arsenal bring Zaha home, he's what we need.:2020-06-29 10:10:06\n",
      "A7madinhÖ 6:RT @MrRussoTM: Wilfried #Zaha has made it clear that he wants to leave Crystal #Palace this summer and wants a new challenge. His agent sti…:2020-06-29 10:10:03\n",
      "ILham Ichemz:Win, Draw, or Lose !!\n",
      "#Arsenal Till I Die !!!:2020-06-29 10:09:47\n",
      "Premier League Best:RT @upinsmoke000: When people ask if my religion ever brings me down I say \"yes, when Arsenal lose its a real low point for me. #afc #arsen…:2020-06-29 10:08:56\n",
      "Premier League Best:RT @AFTVMedia: 👑 It sounds like King Zlatan understands Vieira's winners' mindset!\n",
      "\n",
      "👊 Which football player do you have the MOST RESPECT fo…:2020-06-29 10:08:54\n",
      "South east memorabilia:Signed Arsene Wenger framed picture £75 ONO https://t.co/FVCXGvnagy #afc #memorabilia #arsenal #wenger https://t.co/SxazJqBJbM:2020-06-29 10:08:50\n",
      "ADEOYE Adetoyese:@Gidi_Traffic @EkitiKetekan @Arsenal I will from today recede the tide of slander against #arsenal because of this… https://t.co/m9lBuXXVDX:2020-06-29 10:08:45\n",
      "Gerson:RT @MrRussoTM: Wilfried #Zaha has made it clear that he wants to leave Crystal #Palace this summer and wants a new challenge. His agent sti…:2020-06-29 10:08:38\n",
      "The People's Villain:If #Arsenal can't sell #Ozil in the summer transfer window what should the club do?\n",
      "#AFTV #coyg #gunners #AFC:2020-06-29 10:08:25\n",
      "wiik:King zlatan ndas mu..  RT @AFTVMedia 👑 It sounds like King Zlatan understands Vieira's winners' mindset!\n",
      "\n",
      "👊 Which f… https://t.co/XDASFQbdYO:2020-06-29 10:08:19\n",
      "Jim Halpert:RT @MrRussoTM: Wilfried #Zaha has made it clear that he wants to leave Crystal #Palace this summer and wants a new challenge. His agent sti…:2020-06-29 10:08:15\n",
      "Oluwagbotemi:RT @AFTVMedia: 👑 It sounds like King Zlatan understands Vieira's winners' mindset!\n",
      "\n",
      "👊 Which football player do you have the MOST RESPECT fo…:2020-06-29 10:07:27\n",
      "(mohammed alghareeb):RT @upinsmoke000: When people ask if my religion ever brings me down I say \"yes, when Arsenal lose its a real low point for me. #afc #arsen…:2020-06-29 10:06:48\n"
     ]
    }
   ],
   "source": [
    "for tweet in api.search(q=\"#Arsenal\", lang=\"en\", count=15):\n",
    "#     print(f\"{tweet.user.name}:{tweet.text}:{tweet.created_at}\")\n",
    "    \n",
    "    "
   ]
  },
  {
   "cell_type": "code",
   "execution_count": null,
   "metadata": {},
   "outputs": [],
   "source": []
  }
 ],
 "metadata": {
  "kernelspec": {
   "display_name": "Python 3",
   "language": "python",
   "name": "python3"
  },
  "language_info": {
   "codemirror_mode": {
    "name": "ipython",
    "version": 3
   },
   "file_extension": ".py",
   "mimetype": "text/x-python",
   "name": "python",
   "nbconvert_exporter": "python",
   "pygments_lexer": "ipython3",
   "version": "3.6.3"
  }
 },
 "nbformat": 4,
 "nbformat_minor": 4
}
