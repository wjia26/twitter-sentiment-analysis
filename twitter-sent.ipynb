{
 "cells": [
  {
   "cell_type": "markdown",
   "metadata": {},
   "source": [
    "# Exploratory Analysis and PoC for creating a sentiment analysis app for the EPL Teams"
   ]
  },
  {
   "cell_type": "code",
   "execution_count": 9,
   "metadata": {},
   "outputs": [],
   "source": [
    "import tweepy\n",
    "import json\n",
    "import pandas as pd\n",
    "from datetime import datetime\n",
    "import nltk\n",
    "from nltk.sentiment.vader import SentimentIntensityAnalyzer as SIA\n",
    "# nltk.download('vader_lexicon') # Need this to run SIA()\n",
    "# need to install pyarrow"
   ]
  },
  {
   "cell_type": "code",
   "execution_count": 67,
   "metadata": {},
   "outputs": [],
   "source": [
    "df_query_list=pd.read_csv('query_list.csv')"
   ]
  },
  {
   "cell_type": "code",
   "execution_count": 68,
   "metadata": {},
   "outputs": [],
   "source": [
    "df_query_list=df_query_list.head() #debug for first 5 rows"
   ]
  },
  {
   "cell_type": "code",
   "execution_count": 69,
   "metadata": {},
   "outputs": [],
   "source": [
    "with open(\"C:/Users/William Jiang/Documents/credentials.json\") as f:\n",
    "    d = json.load(f)\n",
    "    cred_json=d[\"twitter_api\"]\n",
    "    \n",
    "\n",
    "# Authenticate to Twitter\n",
    "auth = tweepy.OAuthHandler(cred_json[\"CONSUMER_KEY\"], cred_json[\"CONSUMER_SECRET\"])\n",
    "auth.set_access_token(cred_json[\"ACCESS_TOKEN\"], cred_json[\"ACCESS_TOKEN_SECRET\"])\n",
    "\n",
    "# Create API object\n",
    "api = tweepy.API(auth)\n",
    "\n",
    "# # Create a tweet\n",
    "# api.update_status(\"Hello Tweepy2\")"
   ]
  },
  {
   "cell_type": "code",
   "execution_count": 70,
   "metadata": {},
   "outputs": [],
   "source": [
    "def polarity(row):\n",
    "    #Does the sentiment analysis stuff\n",
    "    sia = SIA()\n",
    "    polarity=sia.polarity_scores(row)\n",
    "    return polarity['compound']"
   ]
  },
  {
   "cell_type": "code",
   "execution_count": 71,
   "metadata": {},
   "outputs": [],
   "source": [
    "import os\n",
    "arr = os.listdir('output')"
   ]
  },
  {
   "cell_type": "code",
   "execution_count": 74,
   "metadata": {},
   "outputs": [],
   "source": [
    "for index,row in df_query_list.iterrows():\n",
    "    #initialize the search_id_list\n",
    "    try:\n",
    "        search_id_list=[]\n",
    "        for file in arr:\n",
    "            if \".parquet\" in file and row['file_name'] in file and row['category'] in file:\n",
    "                search_id=file.split('-')[2]\n",
    "                search_id_list.append(search_id)\n",
    "        \n",
    "        if not search_id_list:\n",
    "            last_since_id=None\n",
    "        else:\n",
    "            last_since_id=max(search_id_list)\n",
    "\n",
    "        #Get Search Results\n",
    "        search_results=api.search(q=row['search'], lang=\"en\", count=15,since_id=last_since_id) #since_id neeeded here at some point\n",
    "        rows_list=[]\n",
    "        for tweet in search_results:\n",
    "            dict1 = {}\n",
    "            dict1['twitter_id']=tweet.id\n",
    "            dict1['username']=tweet.user.name\n",
    "            dict1['screenname']=tweet.user.screen_name\n",
    "            dict1['text']=tweet.text\n",
    "            dict1['created_at']=tweet.created_at\n",
    "            dict1['retweet_count']=tweet.retweet_count\n",
    "            dict1['location']=tweet.user.location\n",
    "            dict1['followers']=tweet.user.followers_count\n",
    "            dict1['friends']=tweet.user.friends_count\n",
    "            dict1['search_query']=row['search']\n",
    "            dict1['file_name']=row['file_name']\n",
    "            dict1['group_name']=row['group_name']\n",
    "            rows_list.append(dict1)\n",
    "\n",
    "        #output to dataframe and then to snappy.parquet form\n",
    "        df=pd.DataFrame(rows_list) \n",
    "        file_dir='output/'\n",
    "        df['polarity']=df['text'].apply(polarity)\n",
    "        to_csv_timestamp = datetime.today().strftime('%Y%m%d_%H%M%S')\n",
    "        max_twitter_id=max(df['twitter_id'])\n",
    "        df.to_parquet(file_dir+row['category'] +'-'+ row['file_name'] +'-'+ str(max_twitter_id) + '-'+ to_csv_timestamp + '.snappy.parquet',compression='SNAPPY')\n",
    "#         df.to_csv(file_dir+row['category'] +'-'+ row['file_name'] +'-'+ str(max_twitter_id) + '-'+ to_csv_timestamp + '.csv') #debugging\n",
    "    except Exception as e:\n",
    "        print(e)"
   ]
  },
  {
   "cell_type": "code",
   "execution_count": null,
   "metadata": {},
   "outputs": [],
   "source": [
    "###Lets tweet this info#####"
   ]
  },
  {
   "cell_type": "code",
   "execution_count": 101,
   "metadata": {},
   "outputs": [
    {
     "name": "stdout",
     "output_type": "stream",
     "text": [
      "Sentiment around: CrystalPalace\n",
      "Search Query: #CrystalPalace OR #CPFC\n",
      "Average: 0.35, Median: 0.4, Standard Deviation: 0.3\n"
     ]
    },
    {
     "data": {
      "text/plain": [
       "Status(_api=<tweepy.api.API object at 0x000001938ADCFA58>, _json={'created_at': 'Sat Jul 04 06:35:30 +0000 2020', 'id': 1279302799243661314, 'id_str': '1279302799243661314', 'text': 'Sentiment around: CrystalPalace\\nSearch Query: #CrystalPalace OR #CPFC\\nAverage: 0.35, Median: 0.4, Standard Deviation: 0.3', 'truncated': False, 'entities': {'hashtags': [{'text': 'CrystalPalace', 'indices': [46, 60]}, {'text': 'CPFC', 'indices': [64, 69]}], 'symbols': [], 'user_mentions': [], 'urls': []}, 'source': '<a href=\"https://en.wikipedia.org/wiki/Uniform_Resource_Locator\" rel=\"nofollow\">bumbumapp</a>', 'in_reply_to_status_id': None, 'in_reply_to_status_id_str': None, 'in_reply_to_user_id': None, 'in_reply_to_user_id_str': None, 'in_reply_to_screen_name': None, 'user': {'id': 4073594774, 'id_str': '4073594774', 'name': 'Will', 'screen_name': 'iamwilliamj1', 'location': '', 'description': '', 'url': None, 'entities': {'description': {'urls': []}}, 'protected': False, 'followers_count': 0, 'friends_count': 0, 'listed_count': 0, 'created_at': 'Fri Oct 30 23:24:16 +0000 2015', 'favourites_count': 0, 'utc_offset': None, 'time_zone': None, 'geo_enabled': False, 'verified': False, 'statuses_count': 9, 'lang': None, 'contributors_enabled': False, 'is_translator': False, 'is_translation_enabled': False, 'profile_background_color': 'C0DEED', 'profile_background_image_url': 'http://abs.twimg.com/images/themes/theme1/bg.png', 'profile_background_image_url_https': 'https://abs.twimg.com/images/themes/theme1/bg.png', 'profile_background_tile': False, 'profile_image_url': 'http://abs.twimg.com/sticky/default_profile_images/default_profile_normal.png', 'profile_image_url_https': 'https://abs.twimg.com/sticky/default_profile_images/default_profile_normal.png', 'profile_link_color': '1DA1F2', 'profile_sidebar_border_color': 'C0DEED', 'profile_sidebar_fill_color': 'DDEEF6', 'profile_text_color': '333333', 'profile_use_background_image': True, 'has_extended_profile': False, 'default_profile': True, 'default_profile_image': True, 'following': False, 'follow_request_sent': False, 'notifications': False, 'translator_type': 'none'}, 'geo': None, 'coordinates': None, 'place': None, 'contributors': None, 'is_quote_status': False, 'retweet_count': 0, 'favorite_count': 0, 'favorited': False, 'retweeted': False, 'lang': 'en'}, created_at=datetime.datetime(2020, 7, 4, 6, 35, 30), id=1279302799243661314, id_str='1279302799243661314', text='Sentiment around: CrystalPalace\\nSearch Query: #CrystalPalace OR #CPFC\\nAverage: 0.35, Median: 0.4, Standard Deviation: 0.3', truncated=False, entities={'hashtags': [{'text': 'CrystalPalace', 'indices': [46, 60]}, {'text': 'CPFC', 'indices': [64, 69]}], 'symbols': [], 'user_mentions': [], 'urls': []}, source='bumbumapp', source_url='https://en.wikipedia.org/wiki/Uniform_Resource_Locator', in_reply_to_status_id=None, in_reply_to_status_id_str=None, in_reply_to_user_id=None, in_reply_to_user_id_str=None, in_reply_to_screen_name=None, author=User(_api=<tweepy.api.API object at 0x000001938ADCFA58>, _json={'id': 4073594774, 'id_str': '4073594774', 'name': 'Will', 'screen_name': 'iamwilliamj1', 'location': '', 'description': '', 'url': None, 'entities': {'description': {'urls': []}}, 'protected': False, 'followers_count': 0, 'friends_count': 0, 'listed_count': 0, 'created_at': 'Fri Oct 30 23:24:16 +0000 2015', 'favourites_count': 0, 'utc_offset': None, 'time_zone': None, 'geo_enabled': False, 'verified': False, 'statuses_count': 9, 'lang': None, 'contributors_enabled': False, 'is_translator': False, 'is_translation_enabled': False, 'profile_background_color': 'C0DEED', 'profile_background_image_url': 'http://abs.twimg.com/images/themes/theme1/bg.png', 'profile_background_image_url_https': 'https://abs.twimg.com/images/themes/theme1/bg.png', 'profile_background_tile': False, 'profile_image_url': 'http://abs.twimg.com/sticky/default_profile_images/default_profile_normal.png', 'profile_image_url_https': 'https://abs.twimg.com/sticky/default_profile_images/default_profile_normal.png', 'profile_link_color': '1DA1F2', 'profile_sidebar_border_color': 'C0DEED', 'profile_sidebar_fill_color': 'DDEEF6', 'profile_text_color': '333333', 'profile_use_background_image': True, 'has_extended_profile': False, 'default_profile': True, 'default_profile_image': True, 'following': False, 'follow_request_sent': False, 'notifications': False, 'translator_type': 'none'}, id=4073594774, id_str='4073594774', name='Will', screen_name='iamwilliamj1', location='', description='', url=None, entities={'description': {'urls': []}}, protected=False, followers_count=0, friends_count=0, listed_count=0, created_at=datetime.datetime(2015, 10, 30, 23, 24, 16), favourites_count=0, utc_offset=None, time_zone=None, geo_enabled=False, verified=False, statuses_count=9, lang=None, contributors_enabled=False, is_translator=False, is_translation_enabled=False, profile_background_color='C0DEED', profile_background_image_url='http://abs.twimg.com/images/themes/theme1/bg.png', profile_background_image_url_https='https://abs.twimg.com/images/themes/theme1/bg.png', profile_background_tile=False, profile_image_url='http://abs.twimg.com/sticky/default_profile_images/default_profile_normal.png', profile_image_url_https='https://abs.twimg.com/sticky/default_profile_images/default_profile_normal.png', profile_link_color='1DA1F2', profile_sidebar_border_color='C0DEED', profile_sidebar_fill_color='DDEEF6', profile_text_color='333333', profile_use_background_image=True, has_extended_profile=False, default_profile=True, default_profile_image=True, following=False, follow_request_sent=False, notifications=False, translator_type='none'), user=User(_api=<tweepy.api.API object at 0x000001938ADCFA58>, _json={'id': 4073594774, 'id_str': '4073594774', 'name': 'Will', 'screen_name': 'iamwilliamj1', 'location': '', 'description': '', 'url': None, 'entities': {'description': {'urls': []}}, 'protected': False, 'followers_count': 0, 'friends_count': 0, 'listed_count': 0, 'created_at': 'Fri Oct 30 23:24:16 +0000 2015', 'favourites_count': 0, 'utc_offset': None, 'time_zone': None, 'geo_enabled': False, 'verified': False, 'statuses_count': 9, 'lang': None, 'contributors_enabled': False, 'is_translator': False, 'is_translation_enabled': False, 'profile_background_color': 'C0DEED', 'profile_background_image_url': 'http://abs.twimg.com/images/themes/theme1/bg.png', 'profile_background_image_url_https': 'https://abs.twimg.com/images/themes/theme1/bg.png', 'profile_background_tile': False, 'profile_image_url': 'http://abs.twimg.com/sticky/default_profile_images/default_profile_normal.png', 'profile_image_url_https': 'https://abs.twimg.com/sticky/default_profile_images/default_profile_normal.png', 'profile_link_color': '1DA1F2', 'profile_sidebar_border_color': 'C0DEED', 'profile_sidebar_fill_color': 'DDEEF6', 'profile_text_color': '333333', 'profile_use_background_image': True, 'has_extended_profile': False, 'default_profile': True, 'default_profile_image': True, 'following': False, 'follow_request_sent': False, 'notifications': False, 'translator_type': 'none'}, id=4073594774, id_str='4073594774', name='Will', screen_name='iamwilliamj1', location='', description='', url=None, entities={'description': {'urls': []}}, protected=False, followers_count=0, friends_count=0, listed_count=0, created_at=datetime.datetime(2015, 10, 30, 23, 24, 16), favourites_count=0, utc_offset=None, time_zone=None, geo_enabled=False, verified=False, statuses_count=9, lang=None, contributors_enabled=False, is_translator=False, is_translation_enabled=False, profile_background_color='C0DEED', profile_background_image_url='http://abs.twimg.com/images/themes/theme1/bg.png', profile_background_image_url_https='https://abs.twimg.com/images/themes/theme1/bg.png', profile_background_tile=False, profile_image_url='http://abs.twimg.com/sticky/default_profile_images/default_profile_normal.png', profile_image_url_https='https://abs.twimg.com/sticky/default_profile_images/default_profile_normal.png', profile_link_color='1DA1F2', profile_sidebar_border_color='C0DEED', profile_sidebar_fill_color='DDEEF6', profile_text_color='333333', profile_use_background_image=True, has_extended_profile=False, default_profile=True, default_profile_image=True, following=False, follow_request_sent=False, notifications=False, translator_type='none'), geo=None, coordinates=None, place=None, contributors=None, is_quote_status=False, retweet_count=0, favorite_count=0, favorited=False, retweeted=False, lang='en')"
      ]
     },
     "execution_count": 101,
     "metadata": {},
     "output_type": "execute_result"
    }
   ],
   "source": [
    "average_str='Average: ' + str(df['polarity'].mean().round(2))\n",
    "median_str='Median: ' + str(df['polarity'].median().round(2))\n",
    "std_str='Standard Deviation: ' + str(df['polarity'].std().round(2))\n",
    "row1='Sentiment around: ' + df['file_name'][0]\n",
    "row2='Search Query: ' + df['search_query'][0]\n",
    "row3=average_str + ', ' + median_str + ', ' +  std_str\n",
    "\n",
    "final_str=row1 + '\\n'+ row2 + '\\n' + row3\n",
    "print(final_str)\n",
    "# # Create a tweet\n",
    "api.update_status(final_str)"
   ]
  },
  {
   "cell_type": "code",
   "execution_count": 90,
   "metadata": {},
   "outputs": [
    {
     "data": {
      "text/plain": [
       "'Let’s go! Great to be in contact and thanks @holmesdaleUSA for the intro! “Charleston Palace” has a great ring to i… https://t.co/OA6OrK3UoH'"
      ]
     },
     "execution_count": 90,
     "metadata": {},
     "output_type": "execute_result"
    }
   ],
   "source": [
    "#Most Positive text\n",
    "df[df['polarity']==max(df['polarity'])]['text'].iloc[0]"
   ]
  },
  {
   "cell_type": "code",
   "execution_count": 91,
   "metadata": {},
   "outputs": [
    {
     "data": {
      "text/plain": [
       "\"We've previewed today's #PremierLeague matches here - https://t.co/G2f2e23fCu\\n\\n#football #betting #tips #EPL… https://t.co/JJnef2CnIp\""
      ]
     },
     "execution_count": 91,
     "metadata": {},
     "output_type": "execute_result"
    }
   ],
   "source": [
    "#Most Negative text\n",
    "df[df['polarity']==min(df['polarity'])]['text'].iloc[0]"
   ]
  },
  {
   "cell_type": "code",
   "execution_count": null,
   "metadata": {},
   "outputs": [],
   "source": []
  }
 ],
 "metadata": {
  "kernelspec": {
   "display_name": "Python 3",
   "language": "python",
   "name": "python3"
  },
  "language_info": {
   "codemirror_mode": {
    "name": "ipython",
    "version": 3
   },
   "file_extension": ".py",
   "mimetype": "text/x-python",
   "name": "python",
   "nbconvert_exporter": "python",
   "pygments_lexer": "ipython3",
   "version": "3.6.3"
  }
 },
 "nbformat": 4,
 "nbformat_minor": 4
}
