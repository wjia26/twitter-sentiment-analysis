{
 "cells": [
  {
   "cell_type": "markdown",
   "metadata": {},
   "source": [
    "## This Job will be uploaded to lambda and run twice a day"
   ]
  },
  {
   "cell_type": "code",
   "execution_count": 1,
   "metadata": {},
   "outputs": [],
   "source": [
    "import time\n",
    "import pythena\n",
    "import datetime\n",
    "import json\n",
    "import s3fs\n",
    "import pandas as pd\n",
    "import nltk\n",
    "from nltk.corpus import stopwords\n",
    "\n",
    "athena_client = pythena.Athena(\"twitterappdatalake\",region=\"ap-southeast-2\") \n"
   ]
  },
  {
   "cell_type": "code",
   "execution_count": 2,
   "metadata": {},
   "outputs": [],
   "source": [
    "with open(\"C:/Users/William Jiang/Documents/credentials.json\") as f:\n",
    "    d = json.load(f)\n",
    "    cred_json=d[\"twitter_api\"]\n",
    "    s3_cred_json=d[\"s3-access\"]\n",
    "    \n",
    "##auth using s3fs\n",
    "fs = s3fs.S3FileSystem(anon=False, key=s3_cred_json['ACCESS_KEY_ID'], secret=s3_cred_json['SECRET_ACCESS_KEY'],default_fill_cache=False)"
   ]
  },
  {
   "cell_type": "code",
   "execution_count": 5,
   "metadata": {},
   "outputs": [
    {
     "data": {
      "text/plain": [
       "False"
      ]
     },
     "execution_count": 5,
     "metadata": {},
     "output_type": "execute_result"
    }
   ],
   "source": [
    "fs.exists('s3://aggregatedresultsforapp/2020-09-08.csv' )"
   ]
  },
  {
   "cell_type": "code",
   "execution_count": 6,
   "metadata": {},
   "outputs": [
    {
     "name": "stdout",
     "output_type": "stream",
     "text": [
      "s3://aggregatedresultsforapp/2020-08-08.csv\n",
      "s3://aggregatedresultsforapp/2020-08-07.csv\n"
     ]
    }
   ],
   "source": [
    "date_delete_list=[datetime.date.today(),datetime.date.today() - datetime.timedelta(days=1)]\n",
    "for date_delete in date_delete_list:\n",
    "    path='s3://aggregatedresultsforapp/' + date_delete.strftime(\"%Y-%m-%d\") + '.csv'\n",
    "    print(path)"
   ]
  },
  {
   "cell_type": "code",
   "execution_count": 5,
   "metadata": {},
   "outputs": [],
   "source": [
    "## Custome Aggregation function. takes in numpy array\n",
    "def word_freq(arr):\n",
    "    stop_words = set(stopwords.words('english'))\n",
    "    stop_substring=['#','@','&',\"rt\",\"https\",\"https.\",\"t.co\"]\n",
    "    stop_words.update([\"rt\",\"https\",\"https.\",\"-\",'.',':'])\n",
    "    text = \" \".join(str(tweet).lower() for tweet in arr)\n",
    "    all_freq={}\n",
    "    for word in text.split():\n",
    "        #Set the substring flag - if any substring is found then it won't get passed\n",
    "        substring_flag=0\n",
    "        for substring in stop_substring:\n",
    "            if substring in word:\n",
    "                substring_flag=1\n",
    "        if substring_flag==0:\n",
    "            if word not in stop_words:\n",
    "                if word in all_freq: \n",
    "                    all_freq[word] += 1\n",
    "                else: \n",
    "                    all_freq[word] = 1   \n",
    "    word_freq_list=sorted(all_freq.items(), key=lambda x: x[1],reverse=True)[0:30]\n",
    "    return word_freq_list"
   ]
  },
  {
   "cell_type": "code",
   "execution_count": 163,
   "metadata": {},
   "outputs": [],
   "source": [
    "## Custome Aggregation function. takes in numpy array and returns the top tweets using the number of retweets to sort.\n",
    "def top_tweets(df_partition):\n",
    "    df_unique_tweets=df_partition.groupby('text').agg([('polarity','mean'),('retweet_count','max'),('retweet_count','count')]).reset_index()\n",
    "    print(df_unique_tweets)\n",
    "    df_sorted=df_unique_tweets.sort_values(by='max_retweet_count',ascending=False)\n",
    "    df_head=df_sorted.head(20)\n",
    "#     print(df_head)\n",
    "    list_of_tweets=[]\n",
    "    for index, row in df_head.iterrows():\n",
    "        list_of_tweets.append({'max_retweet_count':row['max_retweet_count'],'text': str(row['text']),'count': row['count'],'avg_polarity': round(row['avg_polarity'],3)})\n",
    "    return list_of_tweets"
   ]
  },
  {
   "cell_type": "code",
   "execution_count": 164,
   "metadata": {},
   "outputs": [
    {
     "ename": "SpecificationError",
     "evalue": "Function names must be unique, found multiple named retweet_count",
     "output_type": "error",
     "traceback": [
      "\u001b[1;31m---------------------------------------------------------------------------\u001b[0m",
      "\u001b[1;31mSpecificationError\u001b[0m                        Traceback (most recent call last)",
      "\u001b[1;32mc:\\users\\william jiang\\appdata\\local\\programs\\python\\python36\\lib\\site-packages\\pandas\\core\\groupby\\groupby.py\u001b[0m in \u001b[0;36mapply\u001b[1;34m(self, func, *args, **kwargs)\u001b[0m\n\u001b[0;32m    724\u001b[0m             \u001b[1;32mtry\u001b[0m\u001b[1;33m:\u001b[0m\u001b[1;33m\u001b[0m\u001b[0m\n\u001b[1;32m--> 725\u001b[1;33m                 \u001b[0mresult\u001b[0m \u001b[1;33m=\u001b[0m \u001b[0mself\u001b[0m\u001b[1;33m.\u001b[0m\u001b[0m_python_apply_general\u001b[0m\u001b[1;33m(\u001b[0m\u001b[0mf\u001b[0m\u001b[1;33m)\u001b[0m\u001b[1;33m\u001b[0m\u001b[0m\n\u001b[0m\u001b[0;32m    726\u001b[0m             \u001b[1;32mexcept\u001b[0m \u001b[0mException\u001b[0m\u001b[1;33m:\u001b[0m\u001b[1;33m\u001b[0m\u001b[0m\n",
      "\u001b[1;32mc:\\users\\william jiang\\appdata\\local\\programs\\python\\python36\\lib\\site-packages\\pandas\\core\\groupby\\groupby.py\u001b[0m in \u001b[0;36m_python_apply_general\u001b[1;34m(self, f)\u001b[0m\n\u001b[0;32m    741\u001b[0m     \u001b[1;32mdef\u001b[0m \u001b[0m_python_apply_general\u001b[0m\u001b[1;33m(\u001b[0m\u001b[0mself\u001b[0m\u001b[1;33m,\u001b[0m \u001b[0mf\u001b[0m\u001b[1;33m)\u001b[0m\u001b[1;33m:\u001b[0m\u001b[1;33m\u001b[0m\u001b[0m\n\u001b[1;32m--> 742\u001b[1;33m         \u001b[0mkeys\u001b[0m\u001b[1;33m,\u001b[0m \u001b[0mvalues\u001b[0m\u001b[1;33m,\u001b[0m \u001b[0mmutated\u001b[0m \u001b[1;33m=\u001b[0m \u001b[0mself\u001b[0m\u001b[1;33m.\u001b[0m\u001b[0mgrouper\u001b[0m\u001b[1;33m.\u001b[0m\u001b[0mapply\u001b[0m\u001b[1;33m(\u001b[0m\u001b[0mf\u001b[0m\u001b[1;33m,\u001b[0m \u001b[0mself\u001b[0m\u001b[1;33m.\u001b[0m\u001b[0m_selected_obj\u001b[0m\u001b[1;33m,\u001b[0m \u001b[0mself\u001b[0m\u001b[1;33m.\u001b[0m\u001b[0maxis\u001b[0m\u001b[1;33m)\u001b[0m\u001b[1;33m\u001b[0m\u001b[0m\n\u001b[0m\u001b[0;32m    743\u001b[0m \u001b[1;33m\u001b[0m\u001b[0m\n",
      "\u001b[1;32mc:\\users\\william jiang\\appdata\\local\\programs\\python\\python36\\lib\\site-packages\\pandas\\core\\groupby\\ops.py\u001b[0m in \u001b[0;36mapply\u001b[1;34m(self, f, data, axis)\u001b[0m\n\u001b[0;32m    236\u001b[0m             \u001b[0mgroup_axes\u001b[0m \u001b[1;33m=\u001b[0m \u001b[0m_get_axes\u001b[0m\u001b[1;33m(\u001b[0m\u001b[0mgroup\u001b[0m\u001b[1;33m)\u001b[0m\u001b[1;33m\u001b[0m\u001b[0m\n\u001b[1;32m--> 237\u001b[1;33m             \u001b[0mres\u001b[0m \u001b[1;33m=\u001b[0m \u001b[0mf\u001b[0m\u001b[1;33m(\u001b[0m\u001b[0mgroup\u001b[0m\u001b[1;33m)\u001b[0m\u001b[1;33m\u001b[0m\u001b[0m\n\u001b[0m\u001b[0;32m    238\u001b[0m             \u001b[1;32mif\u001b[0m \u001b[1;32mnot\u001b[0m \u001b[0m_is_indexed_like\u001b[0m\u001b[1;33m(\u001b[0m\u001b[0mres\u001b[0m\u001b[1;33m,\u001b[0m \u001b[0mgroup_axes\u001b[0m\u001b[1;33m)\u001b[0m\u001b[1;33m:\u001b[0m\u001b[1;33m\u001b[0m\u001b[0m\n",
      "\u001b[1;32m<ipython-input-163-172c312b56c6>\u001b[0m in \u001b[0;36mtop_tweets\u001b[1;34m(df_partition)\u001b[0m\n\u001b[0;32m      2\u001b[0m \u001b[1;32mdef\u001b[0m \u001b[0mtop_tweets\u001b[0m\u001b[1;33m(\u001b[0m\u001b[0mdf_partition\u001b[0m\u001b[1;33m)\u001b[0m\u001b[1;33m:\u001b[0m\u001b[1;33m\u001b[0m\u001b[0m\n\u001b[1;32m----> 3\u001b[1;33m     \u001b[0mdf_unique_tweets\u001b[0m\u001b[1;33m=\u001b[0m\u001b[0mdf_partition\u001b[0m\u001b[1;33m.\u001b[0m\u001b[0mgroupby\u001b[0m\u001b[1;33m(\u001b[0m\u001b[1;34m'text'\u001b[0m\u001b[1;33m)\u001b[0m\u001b[1;33m.\u001b[0m\u001b[0magg\u001b[0m\u001b[1;33m(\u001b[0m\u001b[1;33m[\u001b[0m\u001b[1;33m(\u001b[0m\u001b[1;34m'polarity'\u001b[0m\u001b[1;33m,\u001b[0m\u001b[1;34m'mean'\u001b[0m\u001b[1;33m)\u001b[0m\u001b[1;33m,\u001b[0m\u001b[1;33m(\u001b[0m\u001b[1;34m'retweet_count'\u001b[0m\u001b[1;33m,\u001b[0m\u001b[1;34m'max'\u001b[0m\u001b[1;33m)\u001b[0m\u001b[1;33m,\u001b[0m\u001b[1;33m(\u001b[0m\u001b[1;34m'retweet_count'\u001b[0m\u001b[1;33m,\u001b[0m\u001b[1;34m'count'\u001b[0m\u001b[1;33m)\u001b[0m\u001b[1;33m]\u001b[0m\u001b[1;33m)\u001b[0m\u001b[1;33m.\u001b[0m\u001b[0mreset_index\u001b[0m\u001b[1;33m(\u001b[0m\u001b[1;33m)\u001b[0m\u001b[1;33m\u001b[0m\u001b[0m\n\u001b[0m\u001b[0;32m      4\u001b[0m     \u001b[0mprint\u001b[0m\u001b[1;33m(\u001b[0m\u001b[0mdf_unique_tweets\u001b[0m\u001b[1;33m)\u001b[0m\u001b[1;33m\u001b[0m\u001b[0m\n",
      "\u001b[1;32mc:\\users\\william jiang\\appdata\\local\\programs\\python\\python36\\lib\\site-packages\\pandas\\core\\groupby\\generic.py\u001b[0m in \u001b[0;36maggregate\u001b[1;34m(self, arg, *args, **kwargs)\u001b[0m\n\u001b[0;32m   1454\u001b[0m     \u001b[1;32mdef\u001b[0m \u001b[0maggregate\u001b[0m\u001b[1;33m(\u001b[0m\u001b[0mself\u001b[0m\u001b[1;33m,\u001b[0m \u001b[0marg\u001b[0m\u001b[1;33m=\u001b[0m\u001b[1;32mNone\u001b[0m\u001b[1;33m,\u001b[0m \u001b[1;33m*\u001b[0m\u001b[0margs\u001b[0m\u001b[1;33m,\u001b[0m \u001b[1;33m**\u001b[0m\u001b[0mkwargs\u001b[0m\u001b[1;33m)\u001b[0m\u001b[1;33m:\u001b[0m\u001b[1;33m\u001b[0m\u001b[0m\n\u001b[1;32m-> 1455\u001b[1;33m         \u001b[1;32mreturn\u001b[0m \u001b[0msuper\u001b[0m\u001b[1;33m(\u001b[0m\u001b[1;33m)\u001b[0m\u001b[1;33m.\u001b[0m\u001b[0maggregate\u001b[0m\u001b[1;33m(\u001b[0m\u001b[0marg\u001b[0m\u001b[1;33m,\u001b[0m \u001b[1;33m*\u001b[0m\u001b[0margs\u001b[0m\u001b[1;33m,\u001b[0m \u001b[1;33m**\u001b[0m\u001b[0mkwargs\u001b[0m\u001b[1;33m)\u001b[0m\u001b[1;33m\u001b[0m\u001b[0m\n\u001b[0m\u001b[0;32m   1456\u001b[0m \u001b[1;33m\u001b[0m\u001b[0m\n",
      "\u001b[1;32mc:\\users\\william jiang\\appdata\\local\\programs\\python\\python36\\lib\\site-packages\\pandas\\core\\groupby\\generic.py\u001b[0m in \u001b[0;36maggregate\u001b[1;34m(self, func, *args, **kwargs)\u001b[0m\n\u001b[0;32m    228\u001b[0m \u001b[1;33m\u001b[0m\u001b[0m\n\u001b[1;32m--> 229\u001b[1;33m         \u001b[0mresult\u001b[0m\u001b[1;33m,\u001b[0m \u001b[0mhow\u001b[0m \u001b[1;33m=\u001b[0m \u001b[0mself\u001b[0m\u001b[1;33m.\u001b[0m\u001b[0m_aggregate\u001b[0m\u001b[1;33m(\u001b[0m\u001b[0mfunc\u001b[0m\u001b[1;33m,\u001b[0m \u001b[0m_level\u001b[0m\u001b[1;33m=\u001b[0m\u001b[0m_level\u001b[0m\u001b[1;33m,\u001b[0m \u001b[1;33m*\u001b[0m\u001b[0margs\u001b[0m\u001b[1;33m,\u001b[0m \u001b[1;33m**\u001b[0m\u001b[0mkwargs\u001b[0m\u001b[1;33m)\u001b[0m\u001b[1;33m\u001b[0m\u001b[0m\n\u001b[0m\u001b[0;32m    230\u001b[0m         \u001b[1;32mif\u001b[0m \u001b[0mhow\u001b[0m \u001b[1;32mis\u001b[0m \u001b[1;32mNone\u001b[0m\u001b[1;33m:\u001b[0m\u001b[1;33m\u001b[0m\u001b[0m\n",
      "\u001b[1;32mc:\\users\\william jiang\\appdata\\local\\programs\\python\\python36\\lib\\site-packages\\pandas\\core\\base.py\u001b[0m in \u001b[0;36m_aggregate\u001b[1;34m(self, arg, *args, **kwargs)\u001b[0m\n\u001b[0;32m    563\u001b[0m             \u001b[1;31m# we require a list, but not an 'str'\u001b[0m\u001b[1;33m\u001b[0m\u001b[1;33m\u001b[0m\u001b[0m\n\u001b[1;32m--> 564\u001b[1;33m             \u001b[1;32mreturn\u001b[0m \u001b[0mself\u001b[0m\u001b[1;33m.\u001b[0m\u001b[0m_aggregate_multiple_funcs\u001b[0m\u001b[1;33m(\u001b[0m\u001b[0marg\u001b[0m\u001b[1;33m,\u001b[0m \u001b[0m_level\u001b[0m\u001b[1;33m=\u001b[0m\u001b[0m_level\u001b[0m\u001b[1;33m,\u001b[0m \u001b[0m_axis\u001b[0m\u001b[1;33m=\u001b[0m\u001b[0m_axis\u001b[0m\u001b[1;33m)\u001b[0m\u001b[1;33m,\u001b[0m \u001b[1;32mNone\u001b[0m\u001b[1;33m\u001b[0m\u001b[0m\n\u001b[0m\u001b[0;32m    565\u001b[0m         \u001b[1;32melse\u001b[0m\u001b[1;33m:\u001b[0m\u001b[1;33m\u001b[0m\u001b[0m\n",
      "\u001b[1;32mc:\\users\\william jiang\\appdata\\local\\programs\\python\\python36\\lib\\site-packages\\pandas\\core\\base.py\u001b[0m in \u001b[0;36m_aggregate_multiple_funcs\u001b[1;34m(self, arg, _level, _axis)\u001b[0m\n\u001b[0;32m    608\u001b[0m                     \u001b[0mcolg\u001b[0m \u001b[1;33m=\u001b[0m \u001b[0mself\u001b[0m\u001b[1;33m.\u001b[0m\u001b[0m_gotitem\u001b[0m\u001b[1;33m(\u001b[0m\u001b[0mcol\u001b[0m\u001b[1;33m,\u001b[0m \u001b[0mndim\u001b[0m\u001b[1;33m=\u001b[0m\u001b[1;36m1\u001b[0m\u001b[1;33m,\u001b[0m \u001b[0msubset\u001b[0m\u001b[1;33m=\u001b[0m\u001b[0mobj\u001b[0m\u001b[1;33m.\u001b[0m\u001b[0miloc\u001b[0m\u001b[1;33m[\u001b[0m\u001b[1;33m:\u001b[0m\u001b[1;33m,\u001b[0m \u001b[0mindex\u001b[0m\u001b[1;33m]\u001b[0m\u001b[1;33m)\u001b[0m\u001b[1;33m\u001b[0m\u001b[0m\n\u001b[1;32m--> 609\u001b[1;33m                     \u001b[0mresults\u001b[0m\u001b[1;33m.\u001b[0m\u001b[0mappend\u001b[0m\u001b[1;33m(\u001b[0m\u001b[0mcolg\u001b[0m\u001b[1;33m.\u001b[0m\u001b[0maggregate\u001b[0m\u001b[1;33m(\u001b[0m\u001b[0marg\u001b[0m\u001b[1;33m)\u001b[0m\u001b[1;33m)\u001b[0m\u001b[1;33m\u001b[0m\u001b[0m\n\u001b[0m\u001b[0;32m    610\u001b[0m                     \u001b[0mkeys\u001b[0m\u001b[1;33m.\u001b[0m\u001b[0mappend\u001b[0m\u001b[1;33m(\u001b[0m\u001b[0mcol\u001b[0m\u001b[1;33m)\u001b[0m\u001b[1;33m\u001b[0m\u001b[0m\n",
      "\u001b[1;32mc:\\users\\william jiang\\appdata\\local\\programs\\python\\python36\\lib\\site-packages\\pandas\\core\\groupby\\generic.py\u001b[0m in \u001b[0;36maggregate\u001b[1;34m(self, func_or_funcs, *args, **kwargs)\u001b[0m\n\u001b[0;32m    850\u001b[0m             \u001b[0mfunc_or_funcs\u001b[0m \u001b[1;33m=\u001b[0m \u001b[0m_maybe_mangle_lambdas\u001b[0m\u001b[1;33m(\u001b[0m\u001b[0mfunc_or_funcs\u001b[0m\u001b[1;33m)\u001b[0m\u001b[1;33m\u001b[0m\u001b[0m\n\u001b[1;32m--> 851\u001b[1;33m             \u001b[0mret\u001b[0m \u001b[1;33m=\u001b[0m \u001b[0mself\u001b[0m\u001b[1;33m.\u001b[0m\u001b[0m_aggregate_multiple_funcs\u001b[0m\u001b[1;33m(\u001b[0m\u001b[0mfunc_or_funcs\u001b[0m\u001b[1;33m,\u001b[0m \u001b[1;33m(\u001b[0m\u001b[0m_level\u001b[0m \u001b[1;32mor\u001b[0m \u001b[1;36m0\u001b[0m\u001b[1;33m)\u001b[0m \u001b[1;33m+\u001b[0m \u001b[1;36m1\u001b[0m\u001b[1;33m)\u001b[0m\u001b[1;33m\u001b[0m\u001b[0m\n\u001b[0m\u001b[0;32m    852\u001b[0m             \u001b[1;32mif\u001b[0m \u001b[0mrelabeling\u001b[0m\u001b[1;33m:\u001b[0m\u001b[1;33m\u001b[0m\u001b[0m\n",
      "\u001b[1;32mc:\\users\\william jiang\\appdata\\local\\programs\\python\\python36\\lib\\site-packages\\pandas\\core\\groupby\\generic.py\u001b[0m in \u001b[0;36m_aggregate_multiple_funcs\u001b[1;34m(self, arg, _level)\u001b[0m\n\u001b[0;32m    920\u001b[0m                     \u001b[1;34m\"Function names must be unique, found multiple named \"\u001b[0m\u001b[1;33m\u001b[0m\u001b[0m\n\u001b[1;32m--> 921\u001b[1;33m                     \u001b[1;34m\"{}\"\u001b[0m\u001b[1;33m.\u001b[0m\u001b[0mformat\u001b[0m\u001b[1;33m(\u001b[0m\u001b[0mname\u001b[0m\u001b[1;33m)\u001b[0m\u001b[1;33m\u001b[0m\u001b[0m\n\u001b[0m\u001b[0;32m    922\u001b[0m                 )\n",
      "\u001b[1;31mSpecificationError\u001b[0m: Function names must be unique, found multiple named retweet_count",
      "\nDuring handling of the above exception, another exception occurred:\n",
      "\u001b[1;31mSpecificationError\u001b[0m                        Traceback (most recent call last)",
      "\u001b[1;32m<ipython-input-164-27ed1416cc63>\u001b[0m in \u001b[0;36m<module>\u001b[1;34m\u001b[0m\n\u001b[1;32m----> 1\u001b[1;33m \u001b[0mdf_top_tweets_groupby\u001b[0m\u001b[1;33m=\u001b[0m\u001b[0mdftest\u001b[0m\u001b[1;33m.\u001b[0m\u001b[0mgroupby\u001b[0m\u001b[1;33m(\u001b[0m\u001b[1;33m[\u001b[0m\u001b[1;34m'partition_1'\u001b[0m\u001b[1;33m,\u001b[0m\u001b[1;34m'partition_0'\u001b[0m\u001b[1;33m,\u001b[0m\u001b[1;34m'search_query'\u001b[0m\u001b[1;33m]\u001b[0m\u001b[1;33m)\u001b[0m\u001b[1;33m.\u001b[0m\u001b[0mapply\u001b[0m\u001b[1;33m(\u001b[0m\u001b[0mtop_tweets\u001b[0m\u001b[1;33m)\u001b[0m\u001b[1;33m.\u001b[0m\u001b[0mto_frame\u001b[0m\u001b[1;33m(\u001b[0m\u001b[1;33m)\u001b[0m\u001b[1;33m\u001b[0m\u001b[0m\n\u001b[0m",
      "\u001b[1;32mc:\\users\\william jiang\\appdata\\local\\programs\\python\\python36\\lib\\site-packages\\pandas\\core\\groupby\\groupby.py\u001b[0m in \u001b[0;36mapply\u001b[1;34m(self, func, *args, **kwargs)\u001b[0m\n\u001b[0;32m    735\u001b[0m \u001b[1;33m\u001b[0m\u001b[0m\n\u001b[0;32m    736\u001b[0m                 \u001b[1;32mwith\u001b[0m \u001b[0m_group_selection_context\u001b[0m\u001b[1;33m(\u001b[0m\u001b[0mself\u001b[0m\u001b[1;33m)\u001b[0m\u001b[1;33m:\u001b[0m\u001b[1;33m\u001b[0m\u001b[0m\n\u001b[1;32m--> 737\u001b[1;33m                     \u001b[1;32mreturn\u001b[0m \u001b[0mself\u001b[0m\u001b[1;33m.\u001b[0m\u001b[0m_python_apply_general\u001b[0m\u001b[1;33m(\u001b[0m\u001b[0mf\u001b[0m\u001b[1;33m)\u001b[0m\u001b[1;33m\u001b[0m\u001b[0m\n\u001b[0m\u001b[0;32m    738\u001b[0m \u001b[1;33m\u001b[0m\u001b[0m\n\u001b[0;32m    739\u001b[0m         \u001b[1;32mreturn\u001b[0m \u001b[0mresult\u001b[0m\u001b[1;33m\u001b[0m\u001b[0m\n",
      "\u001b[1;32mc:\\users\\william jiang\\appdata\\local\\programs\\python\\python36\\lib\\site-packages\\pandas\\core\\groupby\\groupby.py\u001b[0m in \u001b[0;36m_python_apply_general\u001b[1;34m(self, f)\u001b[0m\n\u001b[0;32m    740\u001b[0m \u001b[1;33m\u001b[0m\u001b[0m\n\u001b[0;32m    741\u001b[0m     \u001b[1;32mdef\u001b[0m \u001b[0m_python_apply_general\u001b[0m\u001b[1;33m(\u001b[0m\u001b[0mself\u001b[0m\u001b[1;33m,\u001b[0m \u001b[0mf\u001b[0m\u001b[1;33m)\u001b[0m\u001b[1;33m:\u001b[0m\u001b[1;33m\u001b[0m\u001b[0m\n\u001b[1;32m--> 742\u001b[1;33m         \u001b[0mkeys\u001b[0m\u001b[1;33m,\u001b[0m \u001b[0mvalues\u001b[0m\u001b[1;33m,\u001b[0m \u001b[0mmutated\u001b[0m \u001b[1;33m=\u001b[0m \u001b[0mself\u001b[0m\u001b[1;33m.\u001b[0m\u001b[0mgrouper\u001b[0m\u001b[1;33m.\u001b[0m\u001b[0mapply\u001b[0m\u001b[1;33m(\u001b[0m\u001b[0mf\u001b[0m\u001b[1;33m,\u001b[0m \u001b[0mself\u001b[0m\u001b[1;33m.\u001b[0m\u001b[0m_selected_obj\u001b[0m\u001b[1;33m,\u001b[0m \u001b[0mself\u001b[0m\u001b[1;33m.\u001b[0m\u001b[0maxis\u001b[0m\u001b[1;33m)\u001b[0m\u001b[1;33m\u001b[0m\u001b[0m\n\u001b[0m\u001b[0;32m    743\u001b[0m \u001b[1;33m\u001b[0m\u001b[0m\n\u001b[0;32m    744\u001b[0m         return self._wrap_applied_output(\n",
      "\u001b[1;32mc:\\users\\william jiang\\appdata\\local\\programs\\python\\python36\\lib\\site-packages\\pandas\\core\\groupby\\ops.py\u001b[0m in \u001b[0;36mapply\u001b[1;34m(self, f, data, axis)\u001b[0m\n\u001b[0;32m    235\u001b[0m             \u001b[1;31m# group might be modified\u001b[0m\u001b[1;33m\u001b[0m\u001b[1;33m\u001b[0m\u001b[0m\n\u001b[0;32m    236\u001b[0m             \u001b[0mgroup_axes\u001b[0m \u001b[1;33m=\u001b[0m \u001b[0m_get_axes\u001b[0m\u001b[1;33m(\u001b[0m\u001b[0mgroup\u001b[0m\u001b[1;33m)\u001b[0m\u001b[1;33m\u001b[0m\u001b[0m\n\u001b[1;32m--> 237\u001b[1;33m             \u001b[0mres\u001b[0m \u001b[1;33m=\u001b[0m \u001b[0mf\u001b[0m\u001b[1;33m(\u001b[0m\u001b[0mgroup\u001b[0m\u001b[1;33m)\u001b[0m\u001b[1;33m\u001b[0m\u001b[0m\n\u001b[0m\u001b[0;32m    238\u001b[0m             \u001b[1;32mif\u001b[0m \u001b[1;32mnot\u001b[0m \u001b[0m_is_indexed_like\u001b[0m\u001b[1;33m(\u001b[0m\u001b[0mres\u001b[0m\u001b[1;33m,\u001b[0m \u001b[0mgroup_axes\u001b[0m\u001b[1;33m)\u001b[0m\u001b[1;33m:\u001b[0m\u001b[1;33m\u001b[0m\u001b[0m\n\u001b[0;32m    239\u001b[0m                 \u001b[0mmutated\u001b[0m \u001b[1;33m=\u001b[0m \u001b[1;32mTrue\u001b[0m\u001b[1;33m\u001b[0m\u001b[0m\n",
      "\u001b[1;32m<ipython-input-163-172c312b56c6>\u001b[0m in \u001b[0;36mtop_tweets\u001b[1;34m(df_partition)\u001b[0m\n\u001b[0;32m      1\u001b[0m \u001b[1;31m## Custome Aggregation function. takes in numpy array and returns the top tweets using the number of retweets to sort.\u001b[0m\u001b[1;33m\u001b[0m\u001b[1;33m\u001b[0m\u001b[0m\n\u001b[0;32m      2\u001b[0m \u001b[1;32mdef\u001b[0m \u001b[0mtop_tweets\u001b[0m\u001b[1;33m(\u001b[0m\u001b[0mdf_partition\u001b[0m\u001b[1;33m)\u001b[0m\u001b[1;33m:\u001b[0m\u001b[1;33m\u001b[0m\u001b[0m\n\u001b[1;32m----> 3\u001b[1;33m     \u001b[0mdf_unique_tweets\u001b[0m\u001b[1;33m=\u001b[0m\u001b[0mdf_partition\u001b[0m\u001b[1;33m.\u001b[0m\u001b[0mgroupby\u001b[0m\u001b[1;33m(\u001b[0m\u001b[1;34m'text'\u001b[0m\u001b[1;33m)\u001b[0m\u001b[1;33m.\u001b[0m\u001b[0magg\u001b[0m\u001b[1;33m(\u001b[0m\u001b[1;33m[\u001b[0m\u001b[1;33m(\u001b[0m\u001b[1;34m'polarity'\u001b[0m\u001b[1;33m,\u001b[0m\u001b[1;34m'mean'\u001b[0m\u001b[1;33m)\u001b[0m\u001b[1;33m,\u001b[0m\u001b[1;33m(\u001b[0m\u001b[1;34m'retweet_count'\u001b[0m\u001b[1;33m,\u001b[0m\u001b[1;34m'max'\u001b[0m\u001b[1;33m)\u001b[0m\u001b[1;33m,\u001b[0m\u001b[1;33m(\u001b[0m\u001b[1;34m'retweet_count'\u001b[0m\u001b[1;33m,\u001b[0m\u001b[1;34m'count'\u001b[0m\u001b[1;33m)\u001b[0m\u001b[1;33m]\u001b[0m\u001b[1;33m)\u001b[0m\u001b[1;33m.\u001b[0m\u001b[0mreset_index\u001b[0m\u001b[1;33m(\u001b[0m\u001b[1;33m)\u001b[0m\u001b[1;33m\u001b[0m\u001b[0m\n\u001b[0m\u001b[0;32m      4\u001b[0m     \u001b[0mprint\u001b[0m\u001b[1;33m(\u001b[0m\u001b[0mdf_unique_tweets\u001b[0m\u001b[1;33m)\u001b[0m\u001b[1;33m\u001b[0m\u001b[0m\n\u001b[0;32m      5\u001b[0m     \u001b[0mdf_sorted\u001b[0m\u001b[1;33m=\u001b[0m\u001b[0mdf_unique_tweets\u001b[0m\u001b[1;33m.\u001b[0m\u001b[0msort_values\u001b[0m\u001b[1;33m(\u001b[0m\u001b[0mby\u001b[0m\u001b[1;33m=\u001b[0m\u001b[1;34m'max_retweet_count'\u001b[0m\u001b[1;33m,\u001b[0m\u001b[0mascending\u001b[0m\u001b[1;33m=\u001b[0m\u001b[1;32mFalse\u001b[0m\u001b[1;33m)\u001b[0m\u001b[1;33m\u001b[0m\u001b[0m\n",
      "\u001b[1;32mc:\\users\\william jiang\\appdata\\local\\programs\\python\\python36\\lib\\site-packages\\pandas\\core\\groupby\\generic.py\u001b[0m in \u001b[0;36maggregate\u001b[1;34m(self, arg, *args, **kwargs)\u001b[0m\n\u001b[0;32m   1453\u001b[0m     \u001b[1;33m@\u001b[0m\u001b[0mAppender\u001b[0m\u001b[1;33m(\u001b[0m\u001b[0m_shared_docs\u001b[0m\u001b[1;33m[\u001b[0m\u001b[1;34m\"aggregate\"\u001b[0m\u001b[1;33m]\u001b[0m\u001b[1;33m)\u001b[0m\u001b[1;33m\u001b[0m\u001b[0m\n\u001b[0;32m   1454\u001b[0m     \u001b[1;32mdef\u001b[0m \u001b[0maggregate\u001b[0m\u001b[1;33m(\u001b[0m\u001b[0mself\u001b[0m\u001b[1;33m,\u001b[0m \u001b[0marg\u001b[0m\u001b[1;33m=\u001b[0m\u001b[1;32mNone\u001b[0m\u001b[1;33m,\u001b[0m \u001b[1;33m*\u001b[0m\u001b[0margs\u001b[0m\u001b[1;33m,\u001b[0m \u001b[1;33m**\u001b[0m\u001b[0mkwargs\u001b[0m\u001b[1;33m)\u001b[0m\u001b[1;33m:\u001b[0m\u001b[1;33m\u001b[0m\u001b[0m\n\u001b[1;32m-> 1455\u001b[1;33m         \u001b[1;32mreturn\u001b[0m \u001b[0msuper\u001b[0m\u001b[1;33m(\u001b[0m\u001b[1;33m)\u001b[0m\u001b[1;33m.\u001b[0m\u001b[0maggregate\u001b[0m\u001b[1;33m(\u001b[0m\u001b[0marg\u001b[0m\u001b[1;33m,\u001b[0m \u001b[1;33m*\u001b[0m\u001b[0margs\u001b[0m\u001b[1;33m,\u001b[0m \u001b[1;33m**\u001b[0m\u001b[0mkwargs\u001b[0m\u001b[1;33m)\u001b[0m\u001b[1;33m\u001b[0m\u001b[0m\n\u001b[0m\u001b[0;32m   1456\u001b[0m \u001b[1;33m\u001b[0m\u001b[0m\n\u001b[0;32m   1457\u001b[0m     \u001b[0magg\u001b[0m \u001b[1;33m=\u001b[0m \u001b[0maggregate\u001b[0m\u001b[1;33m\u001b[0m\u001b[0m\n",
      "\u001b[1;32mc:\\users\\william jiang\\appdata\\local\\programs\\python\\python36\\lib\\site-packages\\pandas\\core\\groupby\\generic.py\u001b[0m in \u001b[0;36maggregate\u001b[1;34m(self, func, *args, **kwargs)\u001b[0m\n\u001b[0;32m    227\u001b[0m         \u001b[0mfunc\u001b[0m \u001b[1;33m=\u001b[0m \u001b[0m_maybe_mangle_lambdas\u001b[0m\u001b[1;33m(\u001b[0m\u001b[0mfunc\u001b[0m\u001b[1;33m)\u001b[0m\u001b[1;33m\u001b[0m\u001b[0m\n\u001b[0;32m    228\u001b[0m \u001b[1;33m\u001b[0m\u001b[0m\n\u001b[1;32m--> 229\u001b[1;33m         \u001b[0mresult\u001b[0m\u001b[1;33m,\u001b[0m \u001b[0mhow\u001b[0m \u001b[1;33m=\u001b[0m \u001b[0mself\u001b[0m\u001b[1;33m.\u001b[0m\u001b[0m_aggregate\u001b[0m\u001b[1;33m(\u001b[0m\u001b[0mfunc\u001b[0m\u001b[1;33m,\u001b[0m \u001b[0m_level\u001b[0m\u001b[1;33m=\u001b[0m\u001b[0m_level\u001b[0m\u001b[1;33m,\u001b[0m \u001b[1;33m*\u001b[0m\u001b[0margs\u001b[0m\u001b[1;33m,\u001b[0m \u001b[1;33m**\u001b[0m\u001b[0mkwargs\u001b[0m\u001b[1;33m)\u001b[0m\u001b[1;33m\u001b[0m\u001b[0m\n\u001b[0m\u001b[0;32m    230\u001b[0m         \u001b[1;32mif\u001b[0m \u001b[0mhow\u001b[0m \u001b[1;32mis\u001b[0m \u001b[1;32mNone\u001b[0m\u001b[1;33m:\u001b[0m\u001b[1;33m\u001b[0m\u001b[0m\n\u001b[0;32m    231\u001b[0m             \u001b[1;32mreturn\u001b[0m \u001b[0mresult\u001b[0m\u001b[1;33m\u001b[0m\u001b[0m\n",
      "\u001b[1;32mc:\\users\\william jiang\\appdata\\local\\programs\\python\\python36\\lib\\site-packages\\pandas\\core\\base.py\u001b[0m in \u001b[0;36m_aggregate\u001b[1;34m(self, arg, *args, **kwargs)\u001b[0m\n\u001b[0;32m    562\u001b[0m         \u001b[1;32melif\u001b[0m \u001b[0mis_list_like\u001b[0m\u001b[1;33m(\u001b[0m\u001b[0marg\u001b[0m\u001b[1;33m)\u001b[0m\u001b[1;33m:\u001b[0m\u001b[1;33m\u001b[0m\u001b[0m\n\u001b[0;32m    563\u001b[0m             \u001b[1;31m# we require a list, but not an 'str'\u001b[0m\u001b[1;33m\u001b[0m\u001b[1;33m\u001b[0m\u001b[0m\n\u001b[1;32m--> 564\u001b[1;33m             \u001b[1;32mreturn\u001b[0m \u001b[0mself\u001b[0m\u001b[1;33m.\u001b[0m\u001b[0m_aggregate_multiple_funcs\u001b[0m\u001b[1;33m(\u001b[0m\u001b[0marg\u001b[0m\u001b[1;33m,\u001b[0m \u001b[0m_level\u001b[0m\u001b[1;33m=\u001b[0m\u001b[0m_level\u001b[0m\u001b[1;33m,\u001b[0m \u001b[0m_axis\u001b[0m\u001b[1;33m=\u001b[0m\u001b[0m_axis\u001b[0m\u001b[1;33m)\u001b[0m\u001b[1;33m,\u001b[0m \u001b[1;32mNone\u001b[0m\u001b[1;33m\u001b[0m\u001b[0m\n\u001b[0m\u001b[0;32m    565\u001b[0m         \u001b[1;32melse\u001b[0m\u001b[1;33m:\u001b[0m\u001b[1;33m\u001b[0m\u001b[0m\n\u001b[0;32m    566\u001b[0m             \u001b[0mresult\u001b[0m \u001b[1;33m=\u001b[0m \u001b[1;32mNone\u001b[0m\u001b[1;33m\u001b[0m\u001b[0m\n",
      "\u001b[1;32mc:\\users\\william jiang\\appdata\\local\\programs\\python\\python36\\lib\\site-packages\\pandas\\core\\base.py\u001b[0m in \u001b[0;36m_aggregate_multiple_funcs\u001b[1;34m(self, arg, _level, _axis)\u001b[0m\n\u001b[0;32m    607\u001b[0m                 \u001b[1;32mtry\u001b[0m\u001b[1;33m:\u001b[0m\u001b[1;33m\u001b[0m\u001b[0m\n\u001b[0;32m    608\u001b[0m                     \u001b[0mcolg\u001b[0m \u001b[1;33m=\u001b[0m \u001b[0mself\u001b[0m\u001b[1;33m.\u001b[0m\u001b[0m_gotitem\u001b[0m\u001b[1;33m(\u001b[0m\u001b[0mcol\u001b[0m\u001b[1;33m,\u001b[0m \u001b[0mndim\u001b[0m\u001b[1;33m=\u001b[0m\u001b[1;36m1\u001b[0m\u001b[1;33m,\u001b[0m \u001b[0msubset\u001b[0m\u001b[1;33m=\u001b[0m\u001b[0mobj\u001b[0m\u001b[1;33m.\u001b[0m\u001b[0miloc\u001b[0m\u001b[1;33m[\u001b[0m\u001b[1;33m:\u001b[0m\u001b[1;33m,\u001b[0m \u001b[0mindex\u001b[0m\u001b[1;33m]\u001b[0m\u001b[1;33m)\u001b[0m\u001b[1;33m\u001b[0m\u001b[0m\n\u001b[1;32m--> 609\u001b[1;33m                     \u001b[0mresults\u001b[0m\u001b[1;33m.\u001b[0m\u001b[0mappend\u001b[0m\u001b[1;33m(\u001b[0m\u001b[0mcolg\u001b[0m\u001b[1;33m.\u001b[0m\u001b[0maggregate\u001b[0m\u001b[1;33m(\u001b[0m\u001b[0marg\u001b[0m\u001b[1;33m)\u001b[0m\u001b[1;33m)\u001b[0m\u001b[1;33m\u001b[0m\u001b[0m\n\u001b[0m\u001b[0;32m    610\u001b[0m                     \u001b[0mkeys\u001b[0m\u001b[1;33m.\u001b[0m\u001b[0mappend\u001b[0m\u001b[1;33m(\u001b[0m\u001b[0mcol\u001b[0m\u001b[1;33m)\u001b[0m\u001b[1;33m\u001b[0m\u001b[0m\n\u001b[0;32m    611\u001b[0m                 \u001b[1;32mexcept\u001b[0m \u001b[1;33m(\u001b[0m\u001b[0mTypeError\u001b[0m\u001b[1;33m,\u001b[0m \u001b[0mDataError\u001b[0m\u001b[1;33m)\u001b[0m\u001b[1;33m:\u001b[0m\u001b[1;33m\u001b[0m\u001b[0m\n",
      "\u001b[1;32mc:\\users\\william jiang\\appdata\\local\\programs\\python\\python36\\lib\\site-packages\\pandas\\core\\groupby\\generic.py\u001b[0m in \u001b[0;36maggregate\u001b[1;34m(self, func_or_funcs, *args, **kwargs)\u001b[0m\n\u001b[0;32m    849\u001b[0m             \u001b[1;31m# but not the class list / tuple itself.\u001b[0m\u001b[1;33m\u001b[0m\u001b[1;33m\u001b[0m\u001b[0m\n\u001b[0;32m    850\u001b[0m             \u001b[0mfunc_or_funcs\u001b[0m \u001b[1;33m=\u001b[0m \u001b[0m_maybe_mangle_lambdas\u001b[0m\u001b[1;33m(\u001b[0m\u001b[0mfunc_or_funcs\u001b[0m\u001b[1;33m)\u001b[0m\u001b[1;33m\u001b[0m\u001b[0m\n\u001b[1;32m--> 851\u001b[1;33m             \u001b[0mret\u001b[0m \u001b[1;33m=\u001b[0m \u001b[0mself\u001b[0m\u001b[1;33m.\u001b[0m\u001b[0m_aggregate_multiple_funcs\u001b[0m\u001b[1;33m(\u001b[0m\u001b[0mfunc_or_funcs\u001b[0m\u001b[1;33m,\u001b[0m \u001b[1;33m(\u001b[0m\u001b[0m_level\u001b[0m \u001b[1;32mor\u001b[0m \u001b[1;36m0\u001b[0m\u001b[1;33m)\u001b[0m \u001b[1;33m+\u001b[0m \u001b[1;36m1\u001b[0m\u001b[1;33m)\u001b[0m\u001b[1;33m\u001b[0m\u001b[0m\n\u001b[0m\u001b[0;32m    852\u001b[0m             \u001b[1;32mif\u001b[0m \u001b[0mrelabeling\u001b[0m\u001b[1;33m:\u001b[0m\u001b[1;33m\u001b[0m\u001b[0m\n\u001b[0;32m    853\u001b[0m                 \u001b[0mret\u001b[0m\u001b[1;33m.\u001b[0m\u001b[0mcolumns\u001b[0m \u001b[1;33m=\u001b[0m \u001b[0mcolumns\u001b[0m\u001b[1;33m\u001b[0m\u001b[0m\n",
      "\u001b[1;32mc:\\users\\william jiang\\appdata\\local\\programs\\python\\python36\\lib\\site-packages\\pandas\\core\\groupby\\generic.py\u001b[0m in \u001b[0;36m_aggregate_multiple_funcs\u001b[1;34m(self, arg, _level)\u001b[0m\n\u001b[0;32m    919\u001b[0m                 raise SpecificationError(\n\u001b[0;32m    920\u001b[0m                     \u001b[1;34m\"Function names must be unique, found multiple named \"\u001b[0m\u001b[1;33m\u001b[0m\u001b[0m\n\u001b[1;32m--> 921\u001b[1;33m                     \u001b[1;34m\"{}\"\u001b[0m\u001b[1;33m.\u001b[0m\u001b[0mformat\u001b[0m\u001b[1;33m(\u001b[0m\u001b[0mname\u001b[0m\u001b[1;33m)\u001b[0m\u001b[1;33m\u001b[0m\u001b[0m\n\u001b[0m\u001b[0;32m    922\u001b[0m                 )\n\u001b[0;32m    923\u001b[0m \u001b[1;33m\u001b[0m\u001b[0m\n",
      "\u001b[1;31mSpecificationError\u001b[0m: Function names must be unique, found multiple named retweet_count"
     ]
    }
   ],
   "source": [
    "dftest.head(100).groupby(['partition_1','partition_0','search_query']).apply(top_tweets).to_frame()"
   ]
  },
  {
   "cell_type": "code",
   "execution_count": 3,
   "metadata": {},
   "outputs": [],
   "source": [
    "## debug the funcitons\n",
    "string_date='2020-07-20'\n",
    "string_query='''\n",
    "SELECT * FROM twitterdatalake t where date(date_parse(created_at,'%Y-%m-%d %H:%i:%s'))=date_parse('{0}','%Y-%m-%d')\n",
    "'''.format(string_date)\n",
    "df_oneday = athena_client.execute(string_query)\n",
    "dftest=df_oneday[0]"
   ]
  },
  {
   "cell_type": "code",
   "execution_count": 157,
   "metadata": {},
   "outputs": [],
   "source": [
    "# dftest2=dftest.groupby(['partition_1','partition_0','search_query']).apply(top_tweets).to_frame()\n",
    "# dftest2.rename(columns={0:'top_tweets'})\n",
    "df_top_tweets_groupby=dftest.groupby(['partition_1','partition_0','search_query']).apply(top_tweets).to_frame()\n",
    "df_top_tweets_groupby=df_top_tweets_groupby.rename(columns={0:'top_tweets'})\n",
    "df_word_freq_groupby=dftest.groupby(['partition_1','partition_0','search_query'])['text'].agg([word_freq,'count'])\n",
    "df_avg_groupby=dftest.groupby(['partition_1','partition_0','search_query'])['polarity','followers','friends','retweet_count'].mean()\n",
    "#join\n",
    "df_final_agg=df_avg_groupby.join(df_word_freq_groupby, on=['partition_1','partition_0','search_query'])\n",
    "df_final_agg=df_final_agg.join(df_top_tweets_groupby, on=['partition_1','partition_0','search_query'])\n",
    "df_final_agg=df_final_agg.rename(columns={\"text\": \"word_freq_list\",\"polarity\": \"avg_polarity\",\"followers\":\"avg_followers\",\"friends\":\"avg_friends\",\"retweet_count\":\"avg_retweet_count\"})\n"
   ]
  },
  {
   "cell_type": "code",
   "execution_count": 161,
   "metadata": {},
   "outputs": [
    {
     "data": {
      "text/html": [
       "<div>\n",
       "<style scoped>\n",
       "    .dataframe tbody tr th:only-of-type {\n",
       "        vertical-align: middle;\n",
       "    }\n",
       "\n",
       "    .dataframe tbody tr th {\n",
       "        vertical-align: top;\n",
       "    }\n",
       "\n",
       "    .dataframe thead th {\n",
       "        text-align: right;\n",
       "    }\n",
       "</style>\n",
       "<table border=\"1\" class=\"dataframe\">\n",
       "  <thead>\n",
       "    <tr style=\"text-align: right;\">\n",
       "      <th></th>\n",
       "      <th></th>\n",
       "      <th></th>\n",
       "      <th>avg_polarity</th>\n",
       "      <th>avg_followers</th>\n",
       "      <th>avg_friends</th>\n",
       "      <th>avg_retweet_count</th>\n",
       "      <th>word_freq</th>\n",
       "      <th>count</th>\n",
       "      <th>top_tweets</th>\n",
       "    </tr>\n",
       "    <tr>\n",
       "      <th>partition_1</th>\n",
       "      <th>partition_0</th>\n",
       "      <th>search_query</th>\n",
       "      <th></th>\n",
       "      <th></th>\n",
       "      <th></th>\n",
       "      <th></th>\n",
       "      <th></th>\n",
       "      <th></th>\n",
       "      <th></th>\n",
       "    </tr>\n",
       "  </thead>\n",
       "  <tbody>\n",
       "    <tr>\n",
       "      <th>AFC Bournemouth</th>\n",
       "      <th>EPL</th>\n",
       "      <th>#Bournemouth</th>\n",
       "      <td>-0.111374</td>\n",
       "      <td>8632.135908</td>\n",
       "      <td>1655.352408</td>\n",
       "      <td>12.893181</td>\n",
       "      <td>[(fire, 806), (beach, 632), (bournemouth, 580)...</td>\n",
       "      <td>2097</td>\n",
       "      <td>[{'max_retweet_count': 372, 'text': 'RT @footb...</td>\n",
       "    </tr>\n",
       "    <tr>\n",
       "      <th>AMD</th>\n",
       "      <th>Technology</th>\n",
       "      <th>#AMD</th>\n",
       "      <td>0.095059</td>\n",
       "      <td>3551.473786</td>\n",
       "      <td>655.540777</td>\n",
       "      <td>5.585437</td>\n",
       "      <td>[(amd, 174), (1, 118), (aorus, 100), (10, 99),...</td>\n",
       "      <td>1030</td>\n",
       "      <td>[{'max_retweet_count': 25, 'text': '✨You ask f...</td>\n",
       "    </tr>\n",
       "    <tr>\n",
       "      <th>ANU</th>\n",
       "      <th>Universities</th>\n",
       "      <th>#ANU</th>\n",
       "      <td>-0.072667</td>\n",
       "      <td>2719.515464</td>\n",
       "      <td>644.701031</td>\n",
       "      <td>1.659794</td>\n",
       "      <td>[(last, 28), (years, 28), (attack, 28), (highl...</td>\n",
       "      <td>97</td>\n",
       "      <td>[{'max_retweet_count': 4, 'text': 'Last years ...</td>\n",
       "    </tr>\n",
       "    <tr>\n",
       "      <th>Adelaide</th>\n",
       "      <th>Australia</th>\n",
       "      <th>#Adelaide</th>\n",
       "      <td>0.126367</td>\n",
       "      <td>18152.342222</td>\n",
       "      <td>5688.822222</td>\n",
       "      <td>2.720000</td>\n",
       "      <td>[(hot, 19), (sa, 18), (come, 18), (sauce, 16),...</td>\n",
       "      <td>225</td>\n",
       "      <td>[{'max_retweet_count': 13, 'text': 'RT @Michae...</td>\n",
       "    </tr>\n",
       "    <tr>\n",
       "      <th>Adidas</th>\n",
       "      <th>Fashion</th>\n",
       "      <th>#Adidas</th>\n",
       "      <td>0.365980</td>\n",
       "      <td>5215.033306</td>\n",
       "      <td>913.958784</td>\n",
       "      <td>52.506245</td>\n",
       "      <td>[(check, 650), (good, 569), (items, 528), (lov...</td>\n",
       "      <td>2402</td>\n",
       "      <td>[{'max_retweet_count': 30224, 'text': 'RT @GOT...</td>\n",
       "    </tr>\n",
       "    <tr>\n",
       "      <th>...</th>\n",
       "      <th>...</th>\n",
       "      <th>...</th>\n",
       "      <td>...</td>\n",
       "      <td>...</td>\n",
       "      <td>...</td>\n",
       "      <td>...</td>\n",
       "      <td>...</td>\n",
       "      <td>...</td>\n",
       "      <td>...</td>\n",
       "    </tr>\n",
       "    <tr>\n",
       "      <th>Zambia</th>\n",
       "      <th>Politics</th>\n",
       "      <th>#Zambia</th>\n",
       "      <td>0.164025</td>\n",
       "      <td>39623.170833</td>\n",
       "      <td>3546.859524</td>\n",
       "      <td>13.276190</td>\n",
       "      <td>[(new, 180), (president, 169), (business, 141)...</td>\n",
       "      <td>1680</td>\n",
       "      <td>[{'max_retweet_count': 301, 'text': 'RT @bichr...</td>\n",
       "    </tr>\n",
       "    <tr>\n",
       "      <th>Zara</th>\n",
       "      <th>Fashion</th>\n",
       "      <th>#Zara</th>\n",
       "      <td>0.465277</td>\n",
       "      <td>1310.962217</td>\n",
       "      <td>484.086902</td>\n",
       "      <td>39.754408</td>\n",
       "      <td>[(check, 460), (good, 443), (share!, 443), (it...</td>\n",
       "      <td>794</td>\n",
       "      <td>[{'max_retweet_count': 603, 'text': 'RT @Shukr...</td>\n",
       "    </tr>\n",
       "    <tr>\n",
       "      <th>Zimbabwe</th>\n",
       "      <th>Politics</th>\n",
       "      <th>#Zimbabwe</th>\n",
       "      <td>-0.190760</td>\n",
       "      <td>6174.628506</td>\n",
       "      <td>1770.246399</td>\n",
       "      <td>203.620167</td>\n",
       "      <td>[(arrest, 422), (journalist, 366), (hopewell, ...</td>\n",
       "      <td>1319</td>\n",
       "      <td>[{'max_retweet_count': 1148, 'text': 'RT @NLin...</td>\n",
       "    </tr>\n",
       "    <tr>\n",
       "      <th>cats</th>\n",
       "      <th>Pets</th>\n",
       "      <th>#Cats</th>\n",
       "      <td>0.278979</td>\n",
       "      <td>3600.841496</td>\n",
       "      <td>3071.148091</td>\n",
       "      <td>114.175087</td>\n",
       "      <td>[(go, 262), (😂, 247), (didn’t, 247), (planned,...</td>\n",
       "      <td>2593</td>\n",
       "      <td>[{'max_retweet_count': 2245, 'text': 'RT @miss...</td>\n",
       "    </tr>\n",
       "    <tr>\n",
       "      <th>dogs</th>\n",
       "      <th>Pets</th>\n",
       "      <th>#Dogs OR #Doggo</th>\n",
       "      <td>0.346659</td>\n",
       "      <td>2744.294882</td>\n",
       "      <td>2310.184110</td>\n",
       "      <td>301.452254</td>\n",
       "      <td>[(home, 712), (please, 699), (help, 644), (ret...</td>\n",
       "      <td>2618</td>\n",
       "      <td>[{'max_retweet_count': 2357, 'text': 'RT @funn...</td>\n",
       "    </tr>\n",
       "  </tbody>\n",
       "</table>\n",
       "<p>266 rows × 7 columns</p>\n",
       "</div>"
      ],
      "text/plain": [
       "                                              avg_polarity  avg_followers  \\\n",
       "partition_1     partition_0  search_query                                   \n",
       "AFC Bournemouth EPL          #Bournemouth        -0.111374    8632.135908   \n",
       "AMD             Technology   #AMD                 0.095059    3551.473786   \n",
       "ANU             Universities #ANU                -0.072667    2719.515464   \n",
       "Adelaide        Australia    #Adelaide            0.126367   18152.342222   \n",
       "Adidas          Fashion      #Adidas              0.365980    5215.033306   \n",
       "...                                                    ...            ...   \n",
       "Zambia          Politics     #Zambia              0.164025   39623.170833   \n",
       "Zara            Fashion      #Zara                0.465277    1310.962217   \n",
       "Zimbabwe        Politics     #Zimbabwe           -0.190760    6174.628506   \n",
       "cats            Pets         #Cats                0.278979    3600.841496   \n",
       "dogs            Pets         #Dogs OR #Doggo      0.346659    2744.294882   \n",
       "\n",
       "                                              avg_friends  avg_retweet_count  \\\n",
       "partition_1     partition_0  search_query                                      \n",
       "AFC Bournemouth EPL          #Bournemouth     1655.352408          12.893181   \n",
       "AMD             Technology   #AMD              655.540777           5.585437   \n",
       "ANU             Universities #ANU              644.701031           1.659794   \n",
       "Adelaide        Australia    #Adelaide        5688.822222           2.720000   \n",
       "Adidas          Fashion      #Adidas           913.958784          52.506245   \n",
       "...                                                   ...                ...   \n",
       "Zambia          Politics     #Zambia          3546.859524          13.276190   \n",
       "Zara            Fashion      #Zara             484.086902          39.754408   \n",
       "Zimbabwe        Politics     #Zimbabwe        1770.246399         203.620167   \n",
       "cats            Pets         #Cats            3071.148091         114.175087   \n",
       "dogs            Pets         #Dogs OR #Doggo  2310.184110         301.452254   \n",
       "\n",
       "                                                                                      word_freq  \\\n",
       "partition_1     partition_0  search_query                                                         \n",
       "AFC Bournemouth EPL          #Bournemouth     [(fire, 806), (beach, 632), (bournemouth, 580)...   \n",
       "AMD             Technology   #AMD             [(amd, 174), (1, 118), (aorus, 100), (10, 99),...   \n",
       "ANU             Universities #ANU             [(last, 28), (years, 28), (attack, 28), (highl...   \n",
       "Adelaide        Australia    #Adelaide        [(hot, 19), (sa, 18), (come, 18), (sauce, 16),...   \n",
       "Adidas          Fashion      #Adidas          [(check, 650), (good, 569), (items, 528), (lov...   \n",
       "...                                                                                         ...   \n",
       "Zambia          Politics     #Zambia          [(new, 180), (president, 169), (business, 141)...   \n",
       "Zara            Fashion      #Zara            [(check, 460), (good, 443), (share!, 443), (it...   \n",
       "Zimbabwe        Politics     #Zimbabwe        [(arrest, 422), (journalist, 366), (hopewell, ...   \n",
       "cats            Pets         #Cats            [(go, 262), (😂, 247), (didn’t, 247), (planned,...   \n",
       "dogs            Pets         #Dogs OR #Doggo  [(home, 712), (please, 699), (help, 644), (ret...   \n",
       "\n",
       "                                              count  \\\n",
       "partition_1     partition_0  search_query             \n",
       "AFC Bournemouth EPL          #Bournemouth      2097   \n",
       "AMD             Technology   #AMD              1030   \n",
       "ANU             Universities #ANU                97   \n",
       "Adelaide        Australia    #Adelaide          225   \n",
       "Adidas          Fashion      #Adidas           2402   \n",
       "...                                             ...   \n",
       "Zambia          Politics     #Zambia           1680   \n",
       "Zara            Fashion      #Zara              794   \n",
       "Zimbabwe        Politics     #Zimbabwe         1319   \n",
       "cats            Pets         #Cats             2593   \n",
       "dogs            Pets         #Dogs OR #Doggo   2618   \n",
       "\n",
       "                                                                                     top_tweets  \n",
       "partition_1     partition_0  search_query                                                        \n",
       "AFC Bournemouth EPL          #Bournemouth     [{'max_retweet_count': 372, 'text': 'RT @footb...  \n",
       "AMD             Technology   #AMD             [{'max_retweet_count': 25, 'text': '✨You ask f...  \n",
       "ANU             Universities #ANU             [{'max_retweet_count': 4, 'text': 'Last years ...  \n",
       "Adelaide        Australia    #Adelaide        [{'max_retweet_count': 13, 'text': 'RT @Michae...  \n",
       "Adidas          Fashion      #Adidas          [{'max_retweet_count': 30224, 'text': 'RT @GOT...  \n",
       "...                                                                                         ...  \n",
       "Zambia          Politics     #Zambia          [{'max_retweet_count': 301, 'text': 'RT @bichr...  \n",
       "Zara            Fashion      #Zara            [{'max_retweet_count': 603, 'text': 'RT @Shukr...  \n",
       "Zimbabwe        Politics     #Zimbabwe        [{'max_retweet_count': 1148, 'text': 'RT @NLin...  \n",
       "cats            Pets         #Cats            [{'max_retweet_count': 2245, 'text': 'RT @miss...  \n",
       "dogs            Pets         #Dogs OR #Doggo  [{'max_retweet_count': 2357, 'text': 'RT @funn...  \n",
       "\n",
       "[266 rows x 7 columns]"
      ]
     },
     "execution_count": 161,
     "metadata": {},
     "output_type": "execute_result"
    }
   ],
   "source": [
    "df_final_agg"
   ]
  },
  {
   "cell_type": "code",
   "execution_count": 128,
   "metadata": {},
   "outputs": [],
   "source": [
    "def query_to_agg_df(string_date):\n",
    "    string_query='''\n",
    "    SELECT * FROM twitterdatalake t where date(date_parse(created_at,'%Y-%m-%d %H:%i:%s'))=date_parse('{0}','%Y-%m-%d')\n",
    "    '''.format(string_date)\n",
    "    df_oneday = athena_client.execute(string_query)\n",
    "    dftest=df_oneday[0]\n",
    "    df_word_freq_groupby=dftest.groupby(['partition_1','partition_0'])['text'].agg([word_freq,'count'])\n",
    "    df_avg_groupby=dftest.groupby(['partition_1','partition_0'])['polarity','followers','friends','retweet_count'].mean()\n",
    "    #join\n",
    "    df_final_agg=df_avg_groupby.join(df_word_freq_groupby, on=['partition_1','partition_0'])\n",
    "    df_final_agg=df_final_agg.rename(columns={\"text\": \"word_freq_list\",\"polarity\": \"avg_polarity\",\"followers\":\"avg_followers\",\"friends\":\"avg_friends\",\"retweet_count\":\"avg_retweet_count\"})\n",
    "    \n",
    "    return df_final_agg"
   ]
  },
  {
   "cell_type": "code",
   "execution_count": 129,
   "metadata": {},
   "outputs": [
    {
     "name": "stdout",
     "output_type": "stream",
     "text": [
      "{'Key': 'aggregatedresultsforapp/2020-07-22.csv', 'LastModified': datetime.datetime(2020, 7, 28, 10, 7, 4, tzinfo=tzutc()), 'ETag': '\"b24abf1db77e66c95f8b53d9491fb7b8\"', 'Size': 166774, 'StorageClass': 'STANDARD', 'type': 'file', 'size': 166774, 'name': 'aggregatedresultsforapp/2020-07-22.csv'}\n",
      "{'Key': 'aggregatedresultsforapp/2020-07-23.csv', 'LastModified': datetime.datetime(2020, 7, 28, 10, 18, 39, tzinfo=tzutc()), 'ETag': '\"707c34c8f79739f24c90f0258d552b69\"', 'Size': 174512, 'StorageClass': 'STANDARD', 'type': 'file', 'size': 174512, 'name': 'aggregatedresultsforapp/2020-07-23.csv'}\n",
      "{'Key': 'aggregatedresultsforapp/2020-07-24.csv', 'LastModified': datetime.datetime(2020, 7, 28, 10, 31, 55, tzinfo=tzutc()), 'ETag': '\"beede18237886661bd10c5b11c0cf840\"', 'Size': 164145, 'StorageClass': 'STANDARD', 'type': 'file', 'size': 164145, 'name': 'aggregatedresultsforapp/2020-07-24.csv'}\n"
     ]
    }
   ],
   "source": [
    "for file in fs.listdir('aggregatedresultsforapp'):\n",
    "    print(file)"
   ]
  },
  {
   "cell_type": "code",
   "execution_count": 130,
   "metadata": {},
   "outputs": [
    {
     "name": "stdout",
     "output_type": "stream",
     "text": [
      "2020-07-24\n"
     ]
    }
   ],
   "source": [
    "# string_today=today_date.strftime(\"%Y-%m-%d\")\n",
    "max_date=datetime.datetime.strptime(\"2020-07-13\", \"%Y-%m-%d\").date()\n",
    "#Find the max date in the s3 bucket\n",
    "for file in fs.listdir('aggregatedresultsforapp'):\n",
    "    current_string=file['Key'].split('/')[-1].split('.csv')[0]\n",
    "    current_date=datetime.datetime.strptime(current_string, \"%Y-%m-%d\").date()\n",
    "    if current_date>max_date:\n",
    "        max_date=current_date\n",
    "\n",
    "print(max_date)"
   ]
  },
  {
   "cell_type": "code",
   "execution_count": 131,
   "metadata": {},
   "outputs": [
    {
     "name": "stdout",
     "output_type": "stream",
     "text": [
      "37.00192832946777\n"
     ]
    }
   ],
   "source": [
    "t0 = time.time()\n",
    "day_before_date = datetime.date.today() - datetime.timedelta(days=2)\n",
    "#If less than daybeforedate then ingest the next date else leave alone\n",
    "if max_date<day_before_date:\n",
    "    next_date=max_date + datetime.timedelta(days=1)\n",
    "    str_next_date=next_date.strftime(\"%Y-%m-%d\")\n",
    "    df_final_agg=query_to_agg_df(str_next_date)\n",
    "    file_dir='s3://aggregatedresultsforapp/'\n",
    "    full_filename=file_dir+ str_next_date\n",
    "    with fs.open(full_filename+ '.csv','w', encoding=\"utf-8\", newline = '\\n') as f:\n",
    "        df_final_agg.to_csv(f)\n",
    "\n",
    "t1 = time.time()\n",
    "total = t1-t0\n",
    "print(total)"
   ]
  },
  {
   "cell_type": "code",
   "execution_count": 133,
   "metadata": {},
   "outputs": [
    {
     "data": {
      "text/plain": [
       "284"
      ]
     },
     "execution_count": 133,
     "metadata": {},
     "output_type": "execute_result"
    }
   ],
   "source": [
    "len(df_final_agg)"
   ]
  },
  {
   "cell_type": "code",
   "execution_count": null,
   "metadata": {},
   "outputs": [
    {
     "name": "stdout",
     "output_type": "stream",
     "text": [
      "NLTK Downloader\n",
      "---------------------------------------------------------------------------\n",
      "    d) Download   l) List    u) Update   c) Config   h) Help   q) Quit\n",
      "---------------------------------------------------------------------------\n",
      "Downloader> c\n",
      "\n",
      "Data Server:\n",
      "  - URL: <https://raw.githubusercontent.com/nltk/nltk_data/gh-pages/index.xml>\n",
      "  - 7 Package Collections Available\n",
      "  - 107 Individual Packages Available\n",
      "\n",
      "Local Machine:\n",
      "  - Data directory: C:\\Users\\William Jiang\\AppData\\Roaming\\nltk_data\n",
      "\n",
      "---------------------------------------------------------------------------\n",
      "    s) Show Config   u) Set Server URL   d) Set Data Dir   m) Main Menu\n",
      "---------------------------------------------------------------------------\n"
     ]
    }
   ],
   "source": [
    "nltk.download_shell()"
   ]
  },
  {
   "cell_type": "code",
   "execution_count": null,
   "metadata": {},
   "outputs": [],
   "source": []
  }
 ],
 "metadata": {
  "kernelspec": {
   "display_name": "Python 3",
   "language": "python",
   "name": "python3"
  },
  "language_info": {
   "codemirror_mode": {
    "name": "ipython",
    "version": 3
   },
   "file_extension": ".py",
   "mimetype": "text/x-python",
   "name": "python",
   "nbconvert_exporter": "python",
   "pygments_lexer": "ipython3",
   "version": "3.6.3"
  }
 },
 "nbformat": 4,
 "nbformat_minor": 4
}
